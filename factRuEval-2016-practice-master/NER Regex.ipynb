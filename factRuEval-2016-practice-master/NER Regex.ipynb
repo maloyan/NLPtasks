{
 "cells": [
  {
   "cell_type": "markdown",
   "metadata": {},
   "source": [
    "# Инициализация"
   ]
  },
  {
   "cell_type": "code",
   "execution_count": 276,
   "metadata": {
    "collapsed": true
   },
   "outputs": [],
   "source": [
    "import pandas as pd\n",
    "import os\n",
    "import re\n",
    "from tqdm import tqdm_notebook"
   ]
  },
  {
   "cell_type": "code",
   "execution_count": 2,
   "metadata": {
    "collapsed": true
   },
   "outputs": [],
   "source": [
    "filenames = [filename for filename in os.listdir('testset') if '.txt' in filename and filename != 'list.txt']"
   ]
  },
  {
   "cell_type": "code",
   "execution_count": 3,
   "metadata": {
    "collapsed": true
   },
   "outputs": [],
   "source": [
    "df_russian_names = pd.read_csv('./data/russian_names.csv', delimiter=';')\n",
    "russian_names = df_russian_names['Name'].values"
   ]
  },
  {
   "cell_type": "code",
   "execution_count": 4,
   "metadata": {
    "collapsed": true
   },
   "outputs": [],
   "source": [
    "df_russian_surnames = pd.read_csv('./data/russian_surnames.csv', delimiter=';')\n",
    "russian_surnames = df_russian_surnames['Surname'].values"
   ]
  },
  {
   "cell_type": "code",
   "execution_count": 5,
   "metadata": {
    "collapsed": true
   },
   "outputs": [],
   "source": [
    "df_foreign_names = pd.read_csv('./data/foreign_names.csv', delimiter=';')\n",
    "foreign_names = df_foreign_names['name']"
   ]
  },
  {
   "cell_type": "code",
   "execution_count": 96,
   "metadata": {
    "collapsed": true
   },
   "outputs": [],
   "source": [
    "df_cities = pd.read_csv('./data/city.csv', delimiter=';')\n",
    "cities = df_cities['name'].values"
   ]
  },
  {
   "cell_type": "code",
   "execution_count": 97,
   "metadata": {
    "collapsed": true
   },
   "outputs": [],
   "source": [
    "df_regions = pd.read_csv('./data/region.csv', delimiter=';')\n",
    "regions = df_regions['name'].values"
   ]
  },
  {
   "cell_type": "code",
   "execution_count": 98,
   "metadata": {
    "collapsed": true
   },
   "outputs": [],
   "source": [
    "df_coutries = pd.read_csv('./data/country.csv', delimiter=';')\n",
    "countries = df_coutries['name'].values"
   ]
  },
  {
   "cell_type": "markdown",
   "metadata": {},
   "source": [
    "# Извлечение организаций"
   ]
  },
  {
   "cell_type": "code",
   "execution_count": 121,
   "metadata": {
    "collapsed": true
   },
   "outputs": [],
   "source": [
    "from bs4 import BeautifulSoup\n",
    "import urllib\n",
    "import urllib3"
   ]
  },
  {
   "cell_type": "code",
   "execution_count": 114,
   "metadata": {
    "collapsed": true
   },
   "outputs": [],
   "source": [
    "pages = ['0'] + [chr(c) for c in range(ord('А'), ord('Я'))] + [chr(c) for c in range(ord('A'), ord('Z'))]"
   ]
  },
  {
   "cell_type": "code",
   "execution_count": 201,
   "metadata": {},
   "outputs": [
    {
     "name": "stderr",
     "output_type": "stream",
     "text": [
      "100%|██████████████████████████████████████████████████████████████████████████████████| 57/57 [00:40<00:00,  1.41it/s]\n"
     ]
    }
   ],
   "source": [
    "organizations = set()\n",
    "base_link = 'https://ru.wikipedia.org/w/index.php?title=%D0%9A%D0%B0%D1%82%D0%B5%D0%B3%D0%BE%D1%80%D0%B8%D1%8F:%D0%9A%D0%BE%D0%BC%D0%BF%D0%B0%D0%BD%D0%B8%D0%B8_%D0%BF%D0%BE_%D0%B0%D0%BB%D1%84%D0%B0%D0%B2%D0%B8%D1%82%D1%83'\n",
    "\n",
    "for page in tqdm_notebook(pages):\n",
    "    link = base_link + '&from=' + urllib.parse.quote(page)\n",
    "    f = urllib.request.urlopen(link)\n",
    "    html = f.read()\n",
    "    soup = BeautifulSoup(html, 'html.parser')\n",
    "    divs = soup.select('div div ul li a')\n",
    "    for div in divs:\n",
    "        organizations.add(div.text)"
   ]
  },
  {
   "cell_type": "code",
   "execution_count": 202,
   "metadata": {},
   "outputs": [
    {
     "name": "stderr",
     "output_type": "stream",
     "text": [
      "100%|██████████████████████████████████████████████████████████████████████████████████| 57/57 [00:38<00:00,  1.48it/s]\n"
     ]
    }
   ],
   "source": [
    "base_link = 'https://ru.wikipedia.org/w/index.php?title=%D0%9A%D0%B0%D1%82%D0%B5%D0%B3%D0%BE%D1%80%D0%B8%D1%8F:%D0%9E%D1%80%D0%B3%D0%B0%D0%BD%D0%B8%D0%B7%D0%B0%D1%86%D0%B8%D0%B8_%D0%BF%D0%BE_%D0%B0%D0%BB%D1%84%D0%B0%D0%B2%D0%B8%D1%82%D1%83'\n",
    "\n",
    "for page in tqdm_notebook(pages):\n",
    "    link = base_link + '&from=' + urllib.parse.quote(page)\n",
    "    f = urllib.request.urlopen(link)\n",
    "    html = f.read()\n",
    "    soup = BeautifulSoup(html, 'html.parser')\n",
    "    divs = soup.select('div div ul li a')\n",
    "    for div in divs:\n",
    "        organizations.add(div.text)"
   ]
  },
  {
   "cell_type": "code",
   "execution_count": 203,
   "metadata": {},
   "outputs": [
    {
     "data": {
      "text/plain": [
       "9479"
      ]
     },
     "execution_count": 203,
     "metadata": {},
     "output_type": "execute_result"
    }
   ],
   "source": [
    "len(organizations)"
   ]
  },
  {
   "cell_type": "code",
   "execution_count": 212,
   "metadata": {
    "collapsed": true
   },
   "outputs": [],
   "source": [
    "with open('./data/organizations.csv', 'w', encoding='utf8') as f:\n",
    "    f.writelines(organizations)"
   ]
  },
  {
   "cell_type": "markdown",
   "metadata": {},
   "source": [
    "# Формирование регулярных выражений"
   ]
  },
  {
   "cell_type": "markdown",
   "metadata": {},
   "source": [
    "## Персоны"
   ]
  },
  {
   "cell_type": "code",
   "execution_count": 251,
   "metadata": {
    "collapsed": true
   },
   "outputs": [],
   "source": [
    "name_res = ['%s[а-я]?(?=[^а-я])' % name[:-1] for name in russian_names if len(name[:-2]) > 3]\n",
    "surname_res = ['%s[а-я]{1,2}(?=[^а-я])' % surname[:-2] for surname in russian_surnames if len(surname[:-2]) > 3]"
   ]
  },
  {
   "cell_type": "code",
   "execution_count": 284,
   "metadata": {
    "collapsed": true,
    "scrolled": true
   },
   "outputs": [],
   "source": [
    "def get_per(text):\n",
    "    res = set()\n",
    "    # имена\n",
    "    for name_re in tqdm_notebook(name_res):\n",
    "        matches = re.finditer(name_re, text)\n",
    "        for m in matches:\n",
    "            span = m.span()\n",
    "            res.add('PER %d %d\\n' % (span[0], span[1] - span[0]))\n",
    "    # фамилии\n",
    "    for surname_re in tqdm_notebook(surname_res):\n",
    "        matches = re.finditer(surname_re, text)\n",
    "        for m in matches:\n",
    "            span = m.span()\n",
    "            res.add('PER %d %d\\n' % (span[0], span[1] - span[0]))\n",
    "    \n",
    "    return res"
   ]
  },
  {
   "cell_type": "markdown",
   "metadata": {},
   "source": [
    "## Организации"
   ]
  },
  {
   "cell_type": "code",
   "execution_count": 285,
   "metadata": {
    "collapsed": true
   },
   "outputs": [],
   "source": [
    "org_res = organizations"
   ]
  },
  {
   "cell_type": "code",
   "execution_count": 286,
   "metadata": {
    "collapsed": true,
    "scrolled": true
   },
   "outputs": [],
   "source": [
    "def get_org(text):\n",
    "    res = set()\n",
    "    for org_re in tqdm_notebook(org_res):\n",
    "        matches = re.finditer(re.escape(org_re), text) # Для избежания ошибки \"error: unbalanced parenthesis at position\"\n",
    "        for m in matches:\n",
    "            span = m.span()\n",
    "            res.add('ORG %d %d\\n' % (span[0], span[1] - span[0]))\n",
    "    return res"
   ]
  },
  {
   "cell_type": "markdown",
   "metadata": {},
   "source": [
    "## Локации"
   ]
  },
  {
   "cell_type": "code",
   "execution_count": 287,
   "metadata": {
    "collapsed": true
   },
   "outputs": [],
   "source": [
    "loc_res = ['%s[а-я](?=[^а-я])' % loc for loc in set(cities.tolist() + regions.tolist() + countries.tolist())]"
   ]
  },
  {
   "cell_type": "code",
   "execution_count": 288,
   "metadata": {
    "collapsed": true,
    "scrolled": true
   },
   "outputs": [],
   "source": [
    "def get_loc(text):\n",
    "    res = set()\n",
    "    for loc_re in tqdm_notebook(loc_res):\n",
    "        matches = re.finditer(loc_re, text)\n",
    "        for m in matches:\n",
    "            span = m.span()\n",
    "            res.add('LOC %d %d\\n' % (span[0], span[1] - span[0]))\n",
    "    return res"
   ]
  },
  {
   "cell_type": "markdown",
   "metadata": {},
   "source": [
    "# Выполнение"
   ]
  },
  {
   "cell_type": "code",
   "execution_count": null,
   "metadata": {
    "scrolled": true
   },
   "outputs": [],
   "source": [
    "for filename in tqdm_notebook(filenames):\n",
    "    with open('./testset/' + filename, encoding='utf8') as f:\n",
    "        text = f.read()\n",
    "    results = list(get_per(text)) + list(get_org(text)) + list(get_loc(text))\n",
    "    with open('./results/' + filename.split('.')[0] + '.task1', 'w') as f:\n",
    "        f.writelines(results)"
   ]
  },
  {
   "cell_type": "markdown",
   "metadata": {},
   "source": [
    "# Проверяем результаты"
   ]
  },
  {
   "cell_type": "code",
   "execution_count": 2,
   "metadata": {
    "ExecuteTime": {
     "end_time": "2018-03-24T06:22:10.831342Z",
     "start_time": "2018-03-24T06:19:10.991681Z"
    }
   },
   "outputs": [
    {
     "name": "stdout",
     "output_type": "stream",
     "text": [
      "WARNING: missing files:\n",
      "book_3539\n",
      "Type    P        R        F1       TP1      TP2      In Std.  In Test.\n",
      "per        0.2097   0.5430   0.3026   658.17   658.17     1212     3138\n",
      "loc        0.3854   0.1247   0.1884    67.83    67.83      544      176\n",
      "org        0.7374   0.1559   0.2574   246.30   246.30     1580      334\n",
      "locorg     1.0000   0.0000   0.0000     0.00     0.00      626        0\n",
      "overall    0.2665   0.2454   0.2555   972.30   972.30     3962     3648\n"
     ]
    }
   ],
   "source": [
    "!python scripts/t1_eval.py -s ./testset -t ./results -o ./output"
   ]
  }
 ],
 "metadata": {
  "kernelspec": {
   "display_name": "Python 3",
   "language": "python",
   "name": "python3"
  },
  "language_info": {
   "codemirror_mode": {
    "name": "ipython",
    "version": 3
   },
   "file_extension": ".py",
   "mimetype": "text/x-python",
   "name": "python",
   "nbconvert_exporter": "python",
   "pygments_lexer": "ipython3",
   "version": "3.6.1"
  },
  "toc": {
   "colors": {
    "hover_highlight": "#DAA520",
    "navigate_num": "#000000",
    "navigate_text": "#333333",
    "running_highlight": "#FF0000",
    "selected_highlight": "#FFD700",
    "sidebar_border": "#EEEEEE",
    "wrapper_background": "#FFFFFF"
   },
   "moveMenuLeft": true,
   "nav_menu": {
    "height": "161px",
    "width": "252px"
   },
   "navigate_menu": true,
   "number_sections": false,
   "sideBar": true,
   "threshold": 4,
   "toc_cell": false,
   "toc_section_display": "block",
   "toc_window_display": true,
   "widenNotebook": false
  }
 },
 "nbformat": 4,
 "nbformat_minor": 2
}
