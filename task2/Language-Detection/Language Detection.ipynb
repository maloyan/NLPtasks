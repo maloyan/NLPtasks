{
 "cells": [
  {
   "cell_type": "code",
   "execution_count": 1,
   "metadata": {},
   "outputs": [
    {
     "name": "stderr",
     "output_type": "stream",
     "text": [
      "Using TensorFlow backend.\n"
     ]
    },
    {
     "name": "stdout",
     "output_type": "stream",
     "text": [
      "Keras backend :  tensorflow\n"
     ]
    }
   ],
   "source": [
    "# imports\n",
    "import os\n",
    "import re\n",
    "import math\n",
    "import random\n",
    "import collections\n",
    "import time\n",
    "import numpy as np\n",
    "import matplotlib\n",
    "import matplotlib.pyplot as plt\n",
    "%matplotlib inline\n",
    "from sklearn import metrics\n",
    "from sklearn.model_selection import train_test_split\n",
    "from sklearn import preprocessing\n",
    "from sklearn.metrics import classification_report\n",
    "import keras\n",
    "from keras.models import Sequential\n",
    "from keras.layers import Dense\n",
    "from keras.layers import Dropout\n",
    "import keras.optimizers\n",
    " \n",
    "#from keras.utils import plot_model\n",
    "print(\"Keras backend : \", keras.backend.backend())"
   ]
  },
  {
   "cell_type": "code",
   "execution_count": 2,
   "metadata": {},
   "outputs": [
    {
     "name": "stdout",
     "output_type": "stream",
     "text": [
      "(['a', 'b', 'c', 'd', 'e', 'f', 'g', 'h', 'i', 'j', 'k', 'l', 'm', 'n', 'o', 'p', 'q', 'r', 's', 't', 'u', 'v', 'w', 'x', 'y', 'z', 'ß', 'à', 'á', 'â', 'ä', 'æ', 'ç', 'è', 'é', 'ê', 'ì', 'í', 'î', 'ï', 'ñ', 'ò', 'ó', 'ô', 'ö', 'ù', 'ú', 'û', 'ü', 'ý', 'ÿ', 'č', 'ď', 'ě', 'ĺ', 'ľ', 'ň', 'œ', 'ŕ', 'ř', 'š', 'ť', 'ů', 'ž', ' ', '!', '?', '¿', '¡'], ['A', 'B', 'C', 'D', 'E', 'F', 'G', 'H', 'I', 'J', 'K', 'L', 'M', 'N', 'O', 'P', 'Q', 'R', 'S', 'T', 'U', 'V', 'W', 'X', 'Y', 'Z', 'À', 'Á', 'Â', 'Ä', 'Æ', 'Ç', 'È', 'É', 'Ê', 'Ì', 'Í', 'Î', 'Ï', 'Ñ', 'Ò', 'Ó', 'Ô', 'Ö', 'Ù', 'Ú', 'Û', 'Ü', 'Ý', 'Č', 'Ď', 'Ě', 'Ĺ', 'Ľ', 'Ň', 'Œ', 'Ŕ', 'Ř', 'Š', 'Ť', 'Ů', 'Ÿ', 'Ž'], 'abcdefghijklmnopqrstuvwxyzßàáâäæçèéêìíîïñòóôöùúûüýÿčďěĺľňœŕřšťůž !?¿¡ABCDEFGHIJKLMNOPQRSTUVWXYZÀÁÂÄÆÇÈÉÊÌÍÎÏÑÒÓÔÖÙÚÛÜÝČĎĚĹĽŇŒŔŘŠŤŮŸŽ')\n"
     ]
    }
   ],
   "source": [
    "#key variables\n",
    "languages_dict = {'en' : 0, 'fr' : 1, 'es' : 2, 'it' : 3, 'de' : 4, 'sk' : 5, 'cs' : 6}\n",
    "\n",
    "text_sample_size = 140\n",
    "num_lang_samples = 250000\n",
    "\n",
    "def size_mb(size):\n",
    "    size_mb =  '{:.2f}'.format(size/(1000*1000.0))\n",
    "    return size_mb + \" MB\"\n",
    "\n",
    "def decode_langid(langid):\n",
    "    for dname, did in languages_dict.items():\n",
    "        if did == langid:\n",
    "            return dname\n",
    "def define_alphabet():\n",
    "    base_en = 'abcdefghijklmnopqrstuvwxyz'\n",
    "    special_chars = ' !?¿¡'\n",
    "    german = 'äöüß'\n",
    "    italian = 'àèéìíòóùú'\n",
    "    french = 'àâæçéèêêîïôœùûüÿ'\n",
    "    spanish = 'áéíóúüñ'\n",
    "    czech = 'áčďéěíjňóřšťúůýž'\n",
    "    slovak = 'áäčďdzdžéíĺľňóôŕšťúýž'\n",
    "    all_lang_chars = base_en + german +  italian + french + spanish + czech + slovak\n",
    "    small_chars = list(set(list(all_lang_chars)))\n",
    "    small_chars.sort() \n",
    "    big_chars = list(set(list(all_lang_chars.upper())))\n",
    "    big_chars.sort()\n",
    "    small_chars += special_chars\n",
    "    letters_string = ''\n",
    "    letters = small_chars + big_chars\n",
    "    for letter in letters:\n",
    "        letters_string += letter\n",
    "    return small_chars,big_chars,letters_string\n",
    "\n",
    "alphabet = define_alphabet()\n",
    "print (alphabet)"
   ]
  },
  {
   "cell_type": "code",
   "execution_count": 3,
   "metadata": {},
   "outputs": [
    {
     "name": "stdout",
     "output_type": "stream",
     "text": [
      "1. Sample text: \n",
      " sind das Bulgarien, Zypern, die Tschechische Republik, Estland, Griechenland, Ungarn, Lettland, Litauen, Malta, Polen, Rumänien und die\n",
      "2. Reference alphabet: \n",
      " ['a', 'b', 'c', 'd', 'e', 'f', 'g', 'h', 'i', 'j', 'k', 'l', 'm', 'n', 'o', 'p', 'q', 'r', 's', 't', 'u', 'v', 'w', 'x', 'y', 'z', 'ß', 'à', 'á', 'â', 'ä', 'æ', 'ç', 'è', 'é', 'ê', 'ì', 'í', 'î', 'ï', 'ñ', 'ò', 'ó', 'ô', 'ö', 'ù', 'ú', 'û', 'ü', 'ý', 'ÿ', 'č', 'ď', 'ě', 'ĺ', 'ľ', 'ň', 'œ', 'ŕ', 'ř', 'š', 'ť', 'ů', 'ž', ' ', '!', '?', '¿', '¡'] ['A', 'B', 'C', 'D', 'E', 'F', 'G', 'H', 'I', 'J', 'K', 'L', 'M', 'N', 'O', 'P', 'Q', 'R', 'S', 'T', 'U', 'V', 'W', 'X', 'Y', 'Z', 'À', 'Á', 'Â', 'Ä', 'Æ', 'Ç', 'È', 'É', 'Ê', 'Ì', 'Í', 'Î', 'Ï', 'Ñ', 'Ò', 'Ó', 'Ô', 'Ö', 'Ù', 'Ú', 'Û', 'Ü', 'Ý', 'Č', 'Ď', 'Ě', 'Ĺ', 'Ľ', 'Ň', 'Œ', 'Ŕ', 'Ř', 'Š', 'Ť', 'Ů', 'Ÿ', 'Ž']\n",
      "3. Sample_input_row: \n",
      " [9, 2, 4, 8, 14, 0, 3, 4, 9, 0, 1, 9, 2, 14, 1, 3, 0, 6, 5, 6, 6, 0, 0, 0, 1, 1, 0, 0, 0, 0, 1, 0, 0, 0, 0, 0, 0, 0, 0, 0, 0, 0, 0, 0, 0, 0, 0, 0, 0, 0, 0, 0, 0, 0, 0, 0, 0, 0, 0, 0, 0, 0, 0, 0, 16, 0, 0, 0, 0, 0, 1, 0, 0, 1, 0, 1, 0, 0, 0, 0, 2, 1, 0, 0, 1, 0, 2, 0, 1, 1, 0, 0, 0, 0, 1, 0, 0, 0, 0, 0, 0, 0, 0, 0, 0, 0, 0, 0, 0, 0, 0, 0, 0, 0, 0, 0, 0, 0, 0, 0, 0, 0, 0, 0, 0, 0, 0, 0, 0, 0, 0, 0]\n",
      "4. Input size :  132\n"
     ]
    }
   ],
   "source": [
    "# this function will get sample of texh from each cleaned language file. \n",
    "# It will try to preserve complete words - if word is to be sliced, sample will be shortened to full word\n",
    "def get_sample_text(file_content,start_index,sample_size):\n",
    "    # we want to start from full first word\n",
    "    # if the firts character is not space, move to next ones\n",
    "    while not (file_content[start_index].isspace()):\n",
    "        start_index += 1\n",
    "    #now we look for first non-space character - beginning of any word\n",
    "    while file_content[start_index].isspace():\n",
    "        start_index += 1\n",
    "    end_index = start_index+sample_size \n",
    "    # we also want full words at the end\n",
    "    while not (file_content[end_index].isspace()):\n",
    "        end_index -= 1\n",
    "    return file_content[start_index:end_index]\n",
    "\n",
    "# we need only alpha characters and some (very limited) special characters\n",
    "# exactly the ones defined in the alphabet\n",
    "# no numbers, most of special characters also bring no value for our classification task\n",
    "# (like dot or comma - they are the same in all of our languages so does not bring additional informational value)\n",
    "\n",
    "# count number of chars in text based on given alphabet\n",
    "def count_chars(text,alphabet):\n",
    "    alphabet_counts = []\n",
    "    for letter in alphabet:\n",
    "        count = text.count(letter)\n",
    "        alphabet_counts.append(count)\n",
    "    return alphabet_counts\n",
    "\n",
    "# process text and return sample input row for DNN\n",
    "# note that we are counting separatey:\n",
    "# a) counts of all letters regardless of their size (whole text turned to lowercase letter)\n",
    "# b) counts of big letters only\n",
    "# this is because German uses big letters for beginning of nouns so this feature is meaningful\n",
    "def get_input_row(content,start_index,sample_size):\n",
    "    sample_text = get_sample_text(content,start_index,sample_size)\n",
    "    counted_chars_all = count_chars(sample_text.lower(),alphabet[0])\n",
    "    counted_chars_big = count_chars(sample_text,alphabet[1])\n",
    "    all_parts = counted_chars_all + counted_chars_big\n",
    "    return all_parts\n",
    "    \n",
    "# let's see if our processing is returning counts\n",
    "# last part calculates also input_size for DNN so this code must be run before DNN is trained\n",
    "\n",
    "path = os.path.join(\"./Data/cleaned_data/\", \"de_cleaned.txt\")\n",
    "with open(path, 'r', encoding = \"UTF-8\") as f:\n",
    "    content = f.read()\n",
    "    random_index = random.randrange(0,len(content)-2*text_sample_size)\n",
    "    sample_text = get_sample_text(content,random_index,text_sample_size)\n",
    "    print (\"1. Sample text: \\n\",sample_text)\n",
    "    print (\"2. Reference alphabet: \\n\",alphabet[0],alphabet[1])\n",
    "    sample_input_row = get_input_row(content,random_index,text_sample_size)\n",
    "    print (\"3. Sample_input_row: \\n\",sample_input_row)\n",
    "    input_size = len(sample_input_row)\n",
    "    print (\"4. Input size : \", input_size)\n",
    "    del content"
   ]
  },
  {
   "cell_type": "code",
   "execution_count": 4,
   "metadata": {},
   "outputs": [
    {
     "name": "stdout",
     "output_type": "stream",
     "text": [
      "Processing file : ./Data/cleaned_data/fr_cleaned.txt\n",
      "File size :  361.89 MB  | # possible samples :  2741567 | # skip chars : 980\n",
      "----------------------------------------------------------------------------------------------------\n",
      "Processing file : ./Data/cleaned_data/de_cleaned.txt\n",
      "File size :  350.31 MB  | # possible samples :  2653886 | # skip chars : 945\n",
      "----------------------------------------------------------------------------------------------------\n",
      "Processing file : ./Data/cleaned_data/cs_cleaned.txt\n",
      "File size :  89.18 MB  | # possible samples :  675632 | # skip chars : 162\n",
      "----------------------------------------------------------------------------------------------------\n",
      "Processing file : ./Data/cleaned_data/it_cleaned.txt\n",
      "File size :  349.81 MB  | # possible samples :  2650106 | # skip chars : 944\n",
      "----------------------------------------------------------------------------------------------------\n",
      "Processing file : ./Data/cleaned_data/en_cleaned.txt\n",
      "File size :  331.35 MB  | # possible samples :  2510204 | # skip chars : 889\n",
      "----------------------------------------------------------------------------------------------------\n",
      "Processing file : ./Data/cleaned_data/es_cleaned.txt\n",
      "File size :  346.48 MB  | # possible samples :  2624842 | # skip chars : 934\n",
      "----------------------------------------------------------------------------------------------------\n",
      "Processing file : ./Data/cleaned_data/sk_cleaned.txt\n",
      "File size :  90.29 MB  | # possible samples :  684031 | # skip chars : 165\n",
      "----------------------------------------------------------------------------------------------------\n",
      "Input size :  132\n",
      "----------------------------------------------------------------------------------------------------\n",
      "Samples array size :  (1750000, 133)\n",
      "./Data/samples_directory/lang_samples_132.npz size :  55.38 MB\n"
     ]
    }
   ],
   "source": [
    "# now we have preprocessing utility functions ready. Let's use them to process each cleaned language file\n",
    "# and turn text data into numerical data samples for our neural network\n",
    "# prepare numpy array\n",
    "sample_data = np.empty((num_lang_samples*len(languages_dict),input_size+1),dtype = np.uint16)\n",
    "lang_seq = 0\n",
    "jump_reduce = 0.2 # part of characters removed from jump to avoid passing the end of file\n",
    "for lang_code in languages_dict:\n",
    "    start_index = 0\n",
    "    path = os.path.join(\"./Data/cleaned_data/\", lang_code+\"_cleaned.txt\")\n",
    "    with open(path, 'r', encoding = \"UTF-8\") as f:\n",
    "        print (\"Processing file : \" + path)\n",
    "        file_content = f.read()\n",
    "        content_length = len(file_content)\n",
    "        remaining = content_length - text_sample_size*num_lang_samples\n",
    "        jump = int(((remaining/num_lang_samples)*3)/4)\n",
    "        print (\"File size : \",size_mb(content_length),\\\n",
    "               \" | # possible samples : \",int(content_length/input_size),\\\n",
    "              \"| # skip chars : \" + str(jump))\n",
    "        for idx in range(num_lang_samples):\n",
    "            input_row = get_input_row(file_content,start_index,text_sample_size)\n",
    "            sample_data[num_lang_samples*lang_seq+idx,] = input_row + [languages_dict[lang_code]]\n",
    "            start_index += text_sample_size + jump\n",
    "        del file_content\n",
    "    lang_seq += 1\n",
    "    print (100*\"-\")\n",
    "     \n",
    "# let's randomy shuffle the data\n",
    "np.random.shuffle(sample_data)\n",
    "# reference input size\n",
    "print (\"Input size : \",input_size )\n",
    "print (100*\"-\")\n",
    "print (\"Samples array size : \",sample_data.shape )\n",
    "path_smpl = os.path.join(\"./Data/samples_directory/\",\"lang_samples_\"+str(input_size)+\".npz\")\n",
    "np.savez_compressed(path_smpl,data=sample_data)\n",
    "print(path_smpl, \"size : \",size_mb(os.path.getsize(path_smpl)))\n",
    "del sample_data"
   ]
  },
  {
   "cell_type": "code",
   "execution_count": 5,
   "metadata": {},
   "outputs": [
    {
     "name": "stdout",
     "output_type": "stream",
     "text": [
      "Sample record : \n",
      " [ 4  0  2  5  7  1  0  3  5  1  4  0  8  6  7  8  0  4  2  6  3  6  0  0  0\n",
      "  4  0  0  7  0  0  0  0  0  0  0  0  3  0  0  0  0  0  0  0  0  0  0  0  2\n",
      "  0  0  0  3  0  0  1  0  0  4  1  0  1  0 19  0  0  0  0  0  0  0  0  0  0\n",
      "  0  0  0  0  0  0  0  0  0  0  0  0  0  1  0  0  0  0  0  0  0  0  0  0  0\n",
      "  0  0  0  0  0  0  0  0  0  0  0  0  0  0  0  0  0  0  0  0  0  0  0  0  0\n",
      "  0  0  0  0  0  0  0  6]\n",
      "Sample language :  cs\n",
      "Dataset shape : (1750000, 133)\n",
      "Language bins count : \n",
      "fr 250000\n",
      "de 250000\n",
      "cs 250000\n",
      "it 250000\n",
      "en 250000\n",
      "es 250000\n",
      "sk 250000\n"
     ]
    }
   ],
   "source": [
    "path_smpl = os.path.join(\"./Data/samples_directory/\",\"lang_samples_\"+str(input_size)+\".npz\")\n",
    "dt = np.load(path_smpl)['data']\n",
    "random_index = random.randrange(0,dt.shape[0])\n",
    "print (\"Sample record : \\n\",dt[random_index,])\n",
    "print (\"Sample language : \",decode_langid(dt[random_index,][input_size]))\n",
    "# we can also check if the data have equal share of different languages\n",
    "print (\"Dataset shape :\", dt.shape)\n",
    "bins = np.bincount(dt[:,input_size])\n",
    "print (\"Language bins count : \") \n",
    "for lang_code in languages_dict: \n",
    "    print (lang_code,bins[languages_dict[lang_code]])"
   ]
  },
  {
   "cell_type": "code",
   "execution_count": 6,
   "metadata": {},
   "outputs": [
    {
     "name": "stdout",
     "output_type": "stream",
     "text": [
      "Example data before processing:\n",
      "X : \n",
      " [  7.   2.   3.   3.  10.   1.   0.   0.   5.   2.   3.   6.   2.   7.   8.\n",
      "   4.   0.   3.   4.   6.   2.   5.   0.   0.   2.   3.   0.   0.   2.   0.\n",
      "   0.   0.   0.   0.   1.   0.   0.   5.   0.   0.   0.   0.   0.   0.   0.\n",
      "   0.   0.   0.   0.   0.   0.   1.   0.   2.   0.   0.   0.   0.   0.   3.\n",
      "   2.   0.   1.   4.  20.   0.   0.   0.   0.   0.   0.   0.   0.   0.   0.\n",
      "   0.   0.   0.   0.   0.   0.   0.   0.   0.   0.   0.   0.   0.   0.   0.\n",
      "   1.   0.   0.   0.   0.   0.   0.   0.   0.   0.   0.   0.   0.   0.   0.\n",
      "   0.   0.   0.   0.   0.   0.   0.   0.   0.   0.   0.   0.   0.   0.   0.\n",
      "   0.   0.   0.   0.   0.   0.   0.   0.   0.   0.   0.   0.]\n",
      "Y : \n",
      " 6.0\n",
      "X preprocessed shape : (1750000, 132)\n",
      "Example data after processing:\n",
      "X : \n",
      " [ -5.09504302e-01   3.78326824e-01  -3.18554419e-01  -6.92028485e-01\n",
      "  -8.43996694e-01  -8.33352963e-02  -9.05245499e-01  -1.06145183e+00\n",
      "  -9.32047189e-01   8.90224141e-01   8.40560431e-01   4.81509525e-01\n",
      "  -7.27994125e-01  -5.12383453e-01  -1.34921417e-01   3.50124459e-01\n",
      "  -5.26549082e-01  -1.46866015e+00  -9.99387484e-01  -3.94581042e-01\n",
      "  -9.80074505e-01   1.22042686e+00  -4.73551268e-01  -3.43440009e-01\n",
      "   8.18902694e-01   1.31734176e+00  -1.57461453e-01  -2.99966289e-01\n",
      "   8.65336162e-01  -4.73837785e-02  -2.85979440e-01  -7.60273016e-03\n",
      "  -6.03090967e-02  -2.68435411e-01   1.51593738e-01  -1.42974085e-01\n",
      "  -6.61826845e-02   2.69177949e+00  -5.29270513e-02  -2.67962252e-02\n",
      "  -1.47074761e-01  -9.30073556e-02  -3.38907150e-01  -2.00369442e-01\n",
      "  -1.94651919e-01  -1.14817439e-01  -3.47925464e-01  -5.36513210e-02\n",
      "  -2.67038839e-01  -4.10555389e-01   0.00000000e+00   1.02703135e+00\n",
      "  -1.41644385e-01   2.28771241e+00  -3.33374105e-02  -2.23178437e-01\n",
      "  -1.68694892e-01  -4.44464953e-02  -3.12255799e-02   4.20924322e+00\n",
      "   2.89599498e+00  -2.75025588e-01   2.28861787e+00   4.49023451e+00\n",
      "  -6.37248882e-02  -9.29463176e-02  -1.52416880e-01  -5.51702723e-02\n",
      "  -2.05154544e-02  -3.74596577e-01  -2.90002407e-01  -3.93748035e-01\n",
      "  -3.27870596e-01  -5.41703924e-01  -2.48366871e-01  -2.41612099e-01\n",
      "  -2.31091229e-01  -3.66428138e-01  -2.25945215e-01  -2.70679574e-01\n",
      "  -3.32806230e-01  -3.61909739e-01  -3.01135278e-01  -2.11403917e-01\n",
      "  -4.82861108e-01  -1.02512112e-01  -2.99148223e-01  -4.23219979e-01\n",
      "  -3.43920487e-01  -3.43250295e-01   2.70947189e+00  -2.23538607e-01\n",
      "  -2.92110263e-02  -7.13909973e-02  -1.93764815e-01  -4.17722300e-02\n",
      "  -3.10236571e-02  -2.26779267e-03  -5.53156487e-02   0.00000000e+00\n",
      "  -3.31008184e-03  -2.68507237e-02  -9.80187376e-02  -4.14853953e-03\n",
      "  -1.06904558e-03  -3.20777404e-02  -3.71431134e-03  -1.60356951e-03\n",
      "   0.00000000e+00   0.00000000e+00  -8.21176707e-03  -2.18218410e-03\n",
      "  -3.42731509e-02   0.00000000e+00  -1.04991076e-01   0.00000000e+00\n",
      "  -5.87755348e-02  -1.06904558e-03  -7.31640953e-02  -3.94887100e-02\n",
      "  -7.55929162e-04  -7.55929162e-04  -1.75242147e-02  -1.06904558e-03\n",
      "  -1.30930846e-03   0.00000000e+00  -3.34077964e-02  -5.13771143e-02\n",
      "  -1.05716332e-02   0.00000000e+00   0.00000000e+00  -3.59211247e-02]\n",
      "Y : \n",
      " [ 0.  0.  0.  0.  0.  0.  1.]\n",
      "./Data/train_test/train_test_data_132.npz size :  142.20 MB\n"
     ]
    }
   ],
   "source": [
    "# we need to preprocess data for DNN yet again - scale it \n",
    "# scling will ensure that our optimization algorithm (variation of gradient descent) will converge well\n",
    "# we need also ensure one-hot econding of target classes for softmax output layer\n",
    "# let's convert datatype before processing to float\n",
    "from keras.utils import np_utils\n",
    "dt = dt.astype(np.float64)\n",
    "# X and Y split\n",
    "X = dt[:,0:input_size]\n",
    "Y = dt[:,input_size]\n",
    "del dt\n",
    "# random index to check random sample\n",
    "random_index = random.randrange(0,X.shape[0])\n",
    "print(\"Example data before processing:\")\n",
    "print(\"X : \\n\", X[random_index,])\n",
    "print(\"Y : \\n\", Y[random_index])\n",
    "Y = np_utils.to_categorical(Y, len(languages_dict))\n",
    "#time.sleep(120) # sleep time to allow release memory. This step is very memory consuming\n",
    "# X preprocessing\n",
    "# standar scaler will be useful laterm during DNN prediction\n",
    "standard_scaler = preprocessing.StandardScaler().fit(X)\n",
    "X = standard_scaler.transform(X)   \n",
    "print (\"X preprocessed shape :\", X.shape)\n",
    "# Y one-hot encoding\n",
    "\n",
    "# See the sample data\n",
    "print(\"Example data after processing:\")\n",
    "print(\"X : \\n\", X[random_index,])\n",
    "print(\"Y : \\n\", Y[random_index])\n",
    "# train/test split. Static seed to have comparable results for different runs\n",
    "seed = 42\n",
    "X_train, X_test, Y_train, Y_test = train_test_split(X, Y, test_size=0.20, random_state=seed)\n",
    "del X, Y\n",
    "# wait for memory release again\n",
    "#time.sleep(120)\n",
    "# save train/test arrays to file \n",
    "path_tt = os.path.join(\"./Data/train_test/\"+\"train_test_data_\"+str(input_size)+\".npz\")\n",
    "np.savez_compressed(path_tt,X_train=X_train,Y_train=Y_train,X_test=X_test,Y_test=Y_test)\n",
    "print(path_tt, \"size : \",size_mb(os.path.getsize(path_tt)))\n",
    "del X_train,Y_train,X_test,Y_test"
   ]
  },
  {
   "cell_type": "code",
   "execution_count": 7,
   "metadata": {},
   "outputs": [
    {
     "name": "stdout",
     "output_type": "stream",
     "text": [
      "X_train:  (1400000, 132)\n",
      "Y_train:  (1400000, 7)\n",
      "X_test:  (350000, 132)\n",
      "Y_test:  (350000, 7)\n"
     ]
    }
   ],
   "source": [
    "# load train data first from file\n",
    "path_tt = os.path.join(\"./Data/train_test/\",\"train_test_data_\"+str(input_size)+\".npz\")\n",
    "train_test_data = np.load(path_tt)\n",
    "X_train = train_test_data['X_train']\n",
    "print (\"X_train: \",X_train.shape)\n",
    "Y_train = train_test_data['Y_train']\n",
    "print (\"Y_train: \",Y_train.shape)\n",
    "X_test = train_test_data['X_test']\n",
    "print (\"X_test: \",X_test.shape)\n",
    "Y_test = train_test_data['Y_test']\n",
    "print (\"Y_test: \",Y_test.shape)\n",
    "del train_test_data"
   ]
  },
  {
   "cell_type": "code",
   "execution_count": 8,
   "metadata": {},
   "outputs": [
    {
     "name": "stdout",
     "output_type": "stream",
     "text": [
      "132\n"
     ]
    },
    {
     "name": "stderr",
     "output_type": "stream",
     "text": [
      "D:\\Anaconda\\lib\\site-packages\\ipykernel\\__main__.py:5: UserWarning: Update your `Dense` call to the Keras 2 API: `Dense(500, activation=\"sigmoid\", kernel_initializer=\"glorot_uniform\", input_dim=132)`\n",
      "D:\\Anaconda\\lib\\site-packages\\ipykernel\\__main__.py:7: UserWarning: Update your `Dense` call to the Keras 2 API: `Dense(300, activation=\"sigmoid\", kernel_initializer=\"glorot_uniform\")`\n",
      "D:\\Anaconda\\lib\\site-packages\\ipykernel\\__main__.py:9: UserWarning: Update your `Dense` call to the Keras 2 API: `Dense(100, activation=\"sigmoid\", kernel_initializer=\"glorot_uniform\")`\n",
      "D:\\Anaconda\\lib\\site-packages\\ipykernel\\__main__.py:11: UserWarning: Update your `Dense` call to the Keras 2 API: `Dense(7, activation=\"softmax\", kernel_initializer=\"glorot_uniform\")`\n"
     ]
    }
   ],
   "source": [
    "# create DNN using Keras Sequential API\n",
    "# I added Dropout to prevent overfitting\n",
    "print(input_size)\n",
    "model = Sequential()\n",
    "model.add(Dense(500,input_dim=input_size,init=\"glorot_uniform\",activation=\"sigmoid\"))\n",
    "model.add(Dropout(0.5))\n",
    "model.add(Dense(300,init=\"glorot_uniform\",activation=\"sigmoid\"))\n",
    "model.add(Dropout(0.5))\n",
    "model.add(Dense(100,init=\"glorot_uniform\",activation=\"sigmoid\"))\n",
    "model.add(Dropout(0.5))\n",
    "model.add(Dense(len(languages_dict),init=\"glorot_uniform\",activation=\"softmax\"))\n",
    "model_optimizer = keras.optimizers.Adam(lr=0.001, beta_1=0.9, beta_2=0.999, epsilon=1e-08, decay=0.0)\n",
    "model.compile(loss='categorical_crossentropy',\n",
    "              optimizer=model_optimizer,\n",
    "              metrics=['accuracy'])"
   ]
  },
  {
   "cell_type": "code",
   "execution_count": 9,
   "metadata": {},
   "outputs": [
    {
     "name": "stdout",
     "output_type": "stream",
     "text": [
      "_________________________________________________________________\n",
      "Layer (type)                 Output Shape              Param #   \n",
      "=================================================================\n",
      "dense_1 (Dense)              (None, 500)               66500     \n",
      "_________________________________________________________________\n",
      "dropout_1 (Dropout)          (None, 500)               0         \n",
      "_________________________________________________________________\n",
      "dense_2 (Dense)              (None, 300)               150300    \n",
      "_________________________________________________________________\n",
      "dropout_2 (Dropout)          (None, 300)               0         \n",
      "_________________________________________________________________\n",
      "dense_3 (Dense)              (None, 100)               30100     \n",
      "_________________________________________________________________\n",
      "dropout_3 (Dropout)          (None, 100)               0         \n",
      "_________________________________________________________________\n",
      "dense_4 (Dense)              (None, 7)                 707       \n",
      "=================================================================\n",
      "Total params: 247,607\n",
      "Trainable params: 247,607\n",
      "Non-trainable params: 0\n",
      "_________________________________________________________________\n"
     ]
    }
   ],
   "source": [
    "model.summary()"
   ]
  },
  {
   "cell_type": "code",
   "execution_count": 10,
   "metadata": {},
   "outputs": [
    {
     "name": "stderr",
     "output_type": "stream",
     "text": [
      "D:\\Anaconda\\lib\\site-packages\\keras\\models.py:939: UserWarning: The `nb_epoch` argument in `fit` has been renamed `epochs`.\n",
      "  warnings.warn('The `nb_epoch` argument in `fit` '\n"
     ]
    },
    {
     "name": "stdout",
     "output_type": "stream",
     "text": [
      "Train on 1260000 samples, validate on 140000 samples\n",
      "Epoch 1/12\n",
      " - 330s - loss: 0.0503 - acc: 0.9842 - val_loss: 0.0207 - val_acc: 0.9933\n",
      "Epoch 2/12\n",
      " - 225s - loss: 0.0263 - acc: 0.9921 - val_loss: 0.0199 - val_acc: 0.9936\n",
      "Epoch 3/12\n",
      " - 226s - loss: 0.0243 - acc: 0.9927 - val_loss: 0.0183 - val_acc: 0.9943\n",
      "Epoch 4/12\n",
      " - 235s - loss: 0.0233 - acc: 0.9931 - val_loss: 0.0186 - val_acc: 0.9945\n",
      "Epoch 5/12\n",
      " - 248s - loss: 0.0227 - acc: 0.9933 - val_loss: 0.0181 - val_acc: 0.9944\n",
      "Epoch 6/12\n",
      " - 228s - loss: 0.0220 - acc: 0.9935 - val_loss: 0.0180 - val_acc: 0.9947\n",
      "Epoch 7/12\n",
      " - 238s - loss: 0.0217 - acc: 0.9936 - val_loss: 0.0174 - val_acc: 0.9945\n",
      "Epoch 8/12\n",
      " - 238s - loss: 0.0213 - acc: 0.9938 - val_loss: 0.0180 - val_acc: 0.9947\n",
      "Epoch 9/12\n",
      " - 250s - loss: 0.0213 - acc: 0.9939 - val_loss: 0.0169 - val_acc: 0.9948\n",
      "Epoch 10/12\n",
      " - 247s - loss: 0.0210 - acc: 0.9939 - val_loss: 0.0177 - val_acc: 0.9946\n",
      "Epoch 11/12\n",
      " - 250s - loss: 0.0214 - acc: 0.9940 - val_loss: 0.0173 - val_acc: 0.9948\n",
      "Epoch 12/12\n",
      " - 247s - loss: 0.0210 - acc: 0.9941 - val_loss: 0.0177 - val_acc: 0.9947\n"
     ]
    }
   ],
   "source": [
    "# let's fit the data\n",
    "# history variable will help us to plot results later\n",
    "history = model.fit(X_train,Y_train,\n",
    "          nb_epoch=12,\n",
    "          validation_split=0.10,\n",
    "          batch_size=64,\n",
    "          verbose=2,\n",
    "          shuffle=True)"
   ]
  },
  {
   "cell_type": "code",
   "execution_count": 11,
   "metadata": {},
   "outputs": [
    {
     "name": "stdout",
     "output_type": "stream",
     "text": [
      "350000/350000 [==============================] - 40s 116us/step\n",
      "acc: 99.48%\n"
     ]
    }
   ],
   "source": [
    "# now we will face the TRUTH. What is our model real accuracy tested on unseen data?\n",
    "scores = model.evaluate(X_test, Y_test, verbose=1)\n",
    "print(\"%s: %.2f%%\" % (model.metrics_names[1], scores[1]*100))"
   ]
  },
  {
   "cell_type": "code",
   "execution_count": 12,
   "metadata": {},
   "outputs": [],
   "source": [
    "# and now we will prepare data for scikit-learn classification report\n",
    "Y_pred = model.predict_classes(X_test)\n",
    "Y_pred = np_utils.to_categorical(Y_pred, len(languages_dict))"
   ]
  },
  {
   "cell_type": "code",
   "execution_count": 13,
   "metadata": {},
   "outputs": [
    {
     "name": "stdout",
     "output_type": "stream",
     "text": [
      "             precision    recall  f1-score   support\n",
      "\n",
      "         fr       0.99      1.00      1.00     49967\n",
      "         de       1.00      0.99      0.99     50143\n",
      "         cs       0.99      0.99      0.99     50090\n",
      "         it       0.99      0.99      0.99     50116\n",
      "         en       1.00      1.00      1.00     49823\n",
      "         es       0.99      1.00      1.00     50006\n",
      "         sk       1.00      0.99      1.00     49855\n",
      "\n",
      "avg / total       0.99      0.99      0.99    350000\n",
      "\n"
     ]
    }
   ],
   "source": [
    "# and run the report\n",
    "target_names =  list(languages_dict.keys())\n",
    "print(classification_report(Y_test, Y_pred, target_names=target_names))"
   ]
  },
  {
   "cell_type": "code",
   "execution_count": 14,
   "metadata": {},
   "outputs": [
    {
     "data": {
      "image/png": "[encoded data removed]",
      "text/plain": [
       "<matplotlib.figure.Figure at 0x219ab3b05f8>"
      ]
     },
     "metadata": {},
     "output_type": "display_data"
    }
   ],
   "source": [
    "# show plot accuracy changes during training\n",
    "plt.plot(history.history['acc'],'g')\n",
    "plt.plot(history.history['val_acc'],'r')\n",
    "plt.title('accuracy across epochs')\n",
    "plt.ylabel('accuracy level')\n",
    "plt.xlabel('# epoch')\n",
    "plt.legend(['train', 'test'], loc='lower right')\n",
    "plt.show()"
   ]
  },
  {
   "cell_type": "code",
   "execution_count": 15,
   "metadata": {},
   "outputs": [
    {
     "data": {
      "image/png": "[encoded data removed]",
      "text/plain": [
       "<matplotlib.figure.Figure at 0x2199e073f28>"
      ]
     },
     "metadata": {},
     "output_type": "display_data"
    }
   ],
   "source": [
    "# show plot of loss changes during training\n",
    "plt.plot(history.history['loss'])\n",
    "plt.plot(history.history['val_loss'])\n",
    "plt.title('model loss')\n",
    "plt.ylabel('loss')\n",
    "plt.xlabel('epoch')\n",
    "plt.legend(['train', 'test'], loc='upper left')\n",
    "plt.show()"
   ]
  },
  {
   "cell_type": "code",
   "execution_count": 16,
   "metadata": {},
   "outputs": [
    {
     "name": "stdout",
     "output_type": "stream",
     "text": [
      "Text: You are welcome, most noble Sorceress, to the land ... -> Predicted lang:  en\n",
      "Text: Habe nun, ach! Philosophie, Juristerei und Medizin ... -> Predicted lang:  de\n",
      "Text: Voilà cinq mois que j'en faisais fonction, et, ma  ... -> Predicted lang:  fr\n",
      "Text: Giovanni Sant'Angelo, che negli anni passati a Pad ... -> Predicted lang:  it\n",
      "Text: Dedicada esta sección a la reseña de los composito ... -> Predicted lang:  es\n",
      "Text: A Slávek, jsa povzbuzen, se ptal a otec odpovídal. ... -> Predicted lang:  cs\n",
      "Text: Nad Tatrou1 sa blýska Hromy divo bijú Zastavme ich ... -> Predicted lang:  sk\n"
     ]
    }
   ],
   "source": [
    "# and now we will have some fun. Seeing is believing!\n",
    "# We will take some texts and try to predict the text's language using our trained neural network.\n",
    "\n",
    "# Frank Baum, The Wonderful Wizard of Oz, Project Gutenberg, public domain\n",
    "en_text = \"You are welcome, most noble Sorceress, to the land of the Munchkins. We are so grateful to you \\\n",
    "for having killed the Wicked Witch of the East, and for setting our people free from bondage.\"\n",
    "# Johann Wolfgang von Goethe, Faust: Der Tragödie erster Teil, Project Gutenberg, public domain\n",
    "de_text = \"Habe nun, ach! Philosophie, Juristerei und Medizin, Und leider auch Theologie \\\n",
    "Durchaus studiert, mit heißem Bemühn. Da steh ich nun, ich armer Tor! Und bin so klug als wie zuvor;\"\n",
    "# Pierre Benoît, L'Atlantide, \n",
    "fr_text = \"Voilà cinq mois que j'en faisais fonction, et, ma foi, je supportais bien cette responsabilité et \\\n",
    "goûtais fort cette indépendance. Je puis même affirmer, sans me flatter\"\n",
    "# Alberto Boccardi, Il peccato di Loreta, Project Gutenberg, public domain\n",
    "it_text = \"Giovanni Sant'Angelo, che negli anni passati a Padova in mezzo alla baraonda tanto gioconda degli studenti,\\\n",
    "aveva appreso ad amare con foga di giovane qualche alto ideale, tornato in famiglia dovette fare uno sforzo\"\n",
    "# Fernando Callejo Ferrer, Música y Músicos Portorriqueños, Project Gutenberg, public domain\n",
    "es_text = \"Dedicada esta sección a la reseña de los compositores nativos y obras que han producido, con ligeros \\\n",
    "comentarios propios a cada uno, parécenos oportuno dar ligeras noticias sobre el origen de la composición\"\n",
    "# František Omelka, Blesky nad Beskydami, Project Gutenberg, public domain\n",
    "cs_text = \"A Slávek, jsa povzbuzen, se ptal a otec odpovídal. Přestože byl prostým venkovským listonošem,\\\n",
    "nepřivedla jej žádná synova otázka do rozpaků. Od mládí se zajímal o dějepis a literaturu.\"\n",
    "# Janko Matúška, Nad Tatrou sa blýska,  national anthem of Slovakia, https://en.wikipedia.org/wiki/Nad_Tatrou_sa_blýska\n",
    "sk_text = \"Nad Tatrou1 sa blýska Hromy divo bijú Zastavme ich, bratia Veď sa ony stratia Slováci ožijú \\\n",
    "To Slovensko naše Posiaľ tvrdo spalo Ale blesky hromu Vzbudzujú ho k tomu Aby sa prebralo\"\n",
    "\n",
    "text_texts_array = [en_text,de_text,fr_text,it_text,es_text,cs_text,sk_text]\n",
    "test_array = []\n",
    "for item in text_texts_array:\n",
    "    #cleaned_text = clean_text(item)\n",
    "    input_row = get_input_row(item,0,text_sample_size)\n",
    "    test_array.append(input_row)\n",
    "\n",
    "test_array = standard_scaler.transform(test_array)     \n",
    "Y_pred = model.predict_classes(test_array)\n",
    "for id in range(len(test_array)):\n",
    "    print (\"Text:\",text_texts_array[id][:50],\"... -> Predicted lang: \", decode_langid(Y_pred[id]))"
   ]
  },
  {
   "cell_type": "code",
   "execution_count": null,
   "metadata": {},
   "outputs": [],
   "source": []
  }
 ],
 "metadata": {
  "anaconda-cloud": {},
  "kernelspec": {
   "display_name": "Python 3",
   "language": "python",
   "name": "python3"
  },
  "language_info": {
   "codemirror_mode": {
    "name": "ipython",
    "version": 3
   },
   "file_extension": ".py",
   "mimetype": "text/x-python",
   "name": "python",
   "nbconvert_exporter": "python",
   "pygments_lexer": "ipython3",
   "version": "3.6.5"
  }
 },
 "nbformat": 4,
 "nbformat_minor": 1
}
