{
 "cells": [
  {
   "cell_type": "code",
   "execution_count": 150,
   "metadata": {},
   "outputs": [],
   "source": [
    "import numpy as np\n",
    "import pandas as pd\n",
    "import random\n",
    "import os\n",
    "import matplotlib\n",
    "import matplotlib.pyplot as plt\n",
    "from nltk.util import ngrams # function for making ngrams\n",
    "import re\n",
    "from numpy import sort\n",
    "from matplotlib import pyplot\n",
    "from sklearn.metrics import accuracy_score\n",
    "%matplotlib inline"
   ]
  },
  {
   "cell_type": "code",
   "execution_count": 153,
   "metadata": {},
   "outputs": [],
   "source": [
    "from sklearn import preprocessing\n",
    "from sklearn.model_selection import train_test_split\n",
    "from sklearn.metrics import classification_report\n",
    "from sklearn.feature_selection import SelectFromModel\n",
    "import keras\n",
    "from keras.models import Sequential\n",
    "from keras.layers import Dense\n",
    "from keras.layers import Dropout\n",
    "import keras.optimizers"
   ]
  },
  {
   "cell_type": "markdown",
   "metadata": {},
   "source": [
    "</p>\n",
    "0 - русский\n",
    "1 - белорусский\n",
    "2 - украинский\n",
    "3 - болгарский\n",
    "4 - македонский\n",
    "5 - сербский\n",
    "<p>"
   ]
  },
  {
   "cell_type": "code",
   "execution_count": 4,
   "metadata": {},
   "outputs": [],
   "source": [
    "languages_dict = {'ru' : 0, 'be' : 1, 'uk' : 2, 'bg' : 3, 'mk' : 4, 'sr' : 5}\n",
    "text_sample_size = 20\n",
    "num_lang_samples = 25000\n",
    "\n",
    "def id2lang(id):\n",
    "    for i, key in languages_dict.items():\n",
    "        if key == id:\n",
    "            return i\n",
    "def size_mb(size):\n",
    "    size_mb =  '{:.2f}'.format(size/(1000*1000.0))\n",
    "    return size_mb + \" MB\""
   ]
  },
  {
   "cell_type": "code",
   "execution_count": 5,
   "metadata": {},
   "outputs": [],
   "source": [
    "def define_alphabet():\n",
    "    slav = 'абвгдежзклмнопрстуфхцчш'\n",
    "    rus  = 'ёийщъыьэюя'\n",
    "    bel  = 'ёійўыьэюя'\n",
    "    uk   = 'ґєиіїйщьюя'\n",
    "    bul  = 'ийщъьюя'\n",
    "    mac  = 'ѓѕијљњќџ'\n",
    "    srp  = 'ђијљњћџ'\n",
    "    \n",
    "    all_lang_chars = slav + rus + bel + uk + bul + mac + srp\n",
    "    small_chars = list(set(list(all_lang_chars)))\n",
    "    small_chars.sort() \n",
    "    big_chars = list(set(list(all_lang_chars.upper())))\n",
    "    big_chars.sort()\n",
    "    letters_string = ''\n",
    "    letters = small_chars + big_chars\n",
    "    for letter in letters:\n",
    "        letters_string += letter\n",
    "    return small_chars,big_chars,letters_string"
   ]
  },
  {
   "cell_type": "code",
   "execution_count": 6,
   "metadata": {},
   "outputs": [
    {
     "name": "stdout",
     "output_type": "stream",
     "text": [
      "(['а', 'б', 'в', 'г', 'д', 'е', 'ж', 'з', 'и', 'й', 'к', 'л', 'м', 'н', 'о', 'п', 'р', 'с', 'т', 'у', 'ф', 'х', 'ц', 'ч', 'ш', 'щ', 'ъ', 'ы', 'ь', 'э', 'ю', 'я', 'ё', 'ђ', 'ѓ', 'є', 'ѕ', 'і', 'ї', 'ј', 'љ', 'њ', 'ћ', 'ќ', 'ў', 'џ', 'ґ'], ['Ё', 'Ђ', 'Ѓ', 'Є', 'Ѕ', 'І', 'Ї', 'Ј', 'Љ', 'Њ', 'Ћ', 'Ќ', 'Ў', 'Џ', 'А', 'Б', 'В', 'Г', 'Д', 'Е', 'Ж', 'З', 'И', 'Й', 'К', 'Л', 'М', 'Н', 'О', 'П', 'Р', 'С', 'Т', 'У', 'Ф', 'Х', 'Ц', 'Ч', 'Ш', 'Щ', 'Ъ', 'Ы', 'Ь', 'Э', 'Ю', 'Я', 'Ґ'], 'абвгдежзийклмнопрстуфхцчшщъыьэюяёђѓєѕіїјљњћќўџґЁЂЃЄЅІЇЈЉЊЋЌЎЏАБВГДЕЖЗИЙКЛМНОПРСТУФХЦЧШЩЪЫЬЭЮЯҐ')\n"
     ]
    }
   ],
   "source": [
    "alphabet = define_alphabet()\n",
    "print(alphabet)"
   ]
  },
  {
   "cell_type": "code",
   "execution_count": 7,
   "metadata": {},
   "outputs": [],
   "source": [
    "def get_sample_text(file_content,start_index,sample_size):\n",
    "    end_index = start_index+sample_size\n",
    "    return file_content[start_index:end_index]\n",
    "\n",
    "def count_chars(text,alphabet):\n",
    "    alphabet_counts = []\n",
    "    for letter in alphabet:\n",
    "        count = text.count(letter)\n",
    "        alphabet_counts.append(count)\n",
    "    return alphabet_counts\n",
    "\n",
    "def get_input_row(content,start_index,sample_size):\n",
    "    sample_text = get_sample_text(content,start_index,sample_size)\n",
    "    for i in sample_text.split():\n",
    "        sample_text += \" \" + i[-3:] + \" \" + i[-2:] + \" \" + i[-1:] \n",
    "    counted_chars_all = count_chars(sample_text.lower(),alphabet[0])\n",
    "    counted_chars_big = count_chars(sample_text,alphabet[1])\n",
    "    all_parts = counted_chars_all + counted_chars_big\n",
    "    return all_parts\n",
    "\n",
    "def get_for_pred_row(content):\n",
    "    counted_chars_all = count_chars(sample_text.lower(),alphabet[0])\n",
    "    counted_chars_big = count_chars(sample_text,alphabet[1])\n",
    "    all_parts = counted_chars_all + counted_chars_big\n",
    "    return all_parts"
   ]
  },
  {
   "cell_type": "code",
   "execution_count": 47,
   "metadata": {},
   "outputs": [],
   "source": [
    "def create_dataset():\n",
    "    for lang_code in languages_dict:\n",
    "        X = pd.DataFrame(columns=['language', 'text'])\n",
    "        path = os.path.join(\"./wikipedia-crawler/\",  lang_code+\"_clean.txt\")\n",
    "        with open(path, 'r', encoding = \"utf-8\") as f:\n",
    "            for line in f:\n",
    "                n = random.randrange(3, 6)\n",
    "                a = list(ngrams(line.split(), n))\n",
    "                lst = a[random.randrange(0, len(a))]\n",
    "                if all(word.isalpha() for word in lst):\n",
    "                    X = X.append({'language' : languages_dict[lang_code], 'text' : ' '.join(lst)}, ignore_index=True)\n",
    "        X.to_csv(lang_code + '.csv', encoding='utf-8', index=False)"
   ]
  },
  {
   "cell_type": "code",
   "execution_count": 48,
   "metadata": {},
   "outputs": [],
   "source": [
    "ru = pd.read_csv('./data/ru.csv')\n",
    "be = pd.read_csv('./data/be.csv')\n",
    "uk = pd.read_csv('./data/uk.csv')\n",
    "bg = pd.read_csv('./data/bg.csv')\n",
    "mk = pd.read_csv('./data/mk.csv')\n",
    "sr = pd.read_csv('./data/sr.csv')"
   ]
  },
  {
   "cell_type": "code",
   "execution_count": 268,
   "metadata": {},
   "outputs": [],
   "source": [
    "df = ru.head(6000)\n",
    "df = df.append(be.head(6000))\n",
    "df = df.append(uk.head(6000))\n",
    "df = df.append(bg.head(6000))\n",
    "df = df.append(mk.head(6000))\n",
    "df = df.append(sr.head(6000))"
   ]
  },
  {
   "cell_type": "code",
   "execution_count": 65,
   "metadata": {},
   "outputs": [],
   "source": [
    "df_test = pd.read_csv('./data/task2-dev.csv')"
   ]
  },
  {
   "cell_type": "code",
   "execution_count": 64,
   "metadata": {},
   "outputs": [],
   "source": [
    "from sklearn.feature_extraction.text import TfidfVectorizer\n",
    "import xgboost as xgb"
   ]
  },
  {
   "cell_type": "code",
   "execution_count": null,
   "metadata": {},
   "outputs": [],
   "source": [
    "Y_train = df['language']\n",
    "Y_test  = df_test['language']"
   ]
  },
  {
   "cell_type": "code",
   "execution_count": 134,
   "metadata": {},
   "outputs": [],
   "source": [
    "n = df.shape[0]\n",
    "vec = TfidfVectorizer(ngram_range=(1,3), analyzer='char',\n",
    "                      use_idf=1, smooth_idf=1, sublinear_tf=1)\n",
    "X_train = vec.fit_transform(df['text'])\n",
    "X_test  = vec.transform(df_test['text']) "
   ]
  },
  {
   "cell_type": "code",
   "execution_count": 232,
   "metadata": {},
   "outputs": [
    {
     "name": "stdout",
     "output_type": "stream",
     "text": [
      "Thresh=0.000, n=426, Accuracy: 90.33%\n"
     ]
    },
    {
     "name": "stderr",
     "output_type": "stream",
     "text": [
      "C:\\Users\\narek\\Anaconda3\\lib\\site-packages\\sklearn\\preprocessing\\label.py:151: DeprecationWarning: The truth value of an empty array is ambiguous. Returning False, but in future this will result in an error. Use `array.size > 0` to check that an array is not empty.\n",
      "  if diff:\n"
     ]
    }
   ],
   "source": [
    "# select features using threshold\n",
    "thresholds = sort(clf.feature_importances_)\n",
    "thresh = thresholds[15160]\n",
    "clf = xgb.XGBClassifier()\n",
    "\n",
    "selection = SelectFromModel(clf, threshold=thresh, prefit=True)\n",
    "\n",
    "select_X_train = selection.transform(X_train)\n",
    "selection_model = xgb.XGBClassifier()\n",
    "selection_model.fit(select_X_train, Y_train)\n",
    "select_X_test = selection.transform(X_test)\n",
    "\n",
    "y_pred = selection_model.predict(select_X_test)\n",
    "predictions = [round(value) for value in y_pred]\n",
    "accuracy = accuracy_score(Y_test, y_pred)\n",
    "print(\"Thresh=%.3f, n=%d, Accuracy: %.2f%%\" % (thresh, select_X_train.shape[1], accuracy*100.0))"
   ]
  },
  {
   "cell_type": "code",
   "execution_count": 265,
   "metadata": {},
   "outputs": [
    {
     "name": "stdout",
     "output_type": "stream",
     "text": [
      "0.9366666666666666\n"
     ]
    },
    {
     "name": "stderr",
     "output_type": "stream",
     "text": [
      "C:\\Users\\narek\\Anaconda3\\lib\\site-packages\\sklearn\\preprocessing\\label.py:151: DeprecationWarning: The truth value of an empty array is ambiguous. Returning False, but in future this will result in an error. Use `array.size > 0` to check that an array is not empty.\n",
      "  if diff:\n"
     ]
    }
   ],
   "source": [
    "best_parameters = {\n",
    "    #'learning_rate': 0.09,\n",
    "    'max_depth': 9\n",
    "}\n",
    "selection_model = xgb.XGBClassifier(**best_parameters)\n",
    "selection_model.fit(select_X_train, Y_train)\n",
    "y_pred = selection_model.predict(select_X_test)\n",
    "print(accuracy_score(Y_test, y_pred))"
   ]
  },
  {
   "cell_type": "code",
   "execution_count": 267,
   "metadata": {},
   "outputs": [
    {
     "name": "stdout",
     "output_type": "stream",
     "text": [
      "[0 'Эта победа стала первой для'] 1\n",
      "[0 'Кайл, Картман и Баттерс крадут'] 3\n",
      "[0 'Несмотря на успехи'] 3\n",
      "[0 'На вопрос Натана'] 4\n",
      "[0 'Натан замечает, что «Рой» избегает'] 3\n",
      "[0 'Маликов заявляет, что кто-то активировал'] 3\n",
      "[0 'Натан бежит за Дедалом'] 3\n",
      "[0 'Дно чаши кратера заполнено через'] 4\n",
      "[1 'З-за таго, што імя Басараба'] 2\n",
      "[1 'Атлас охотника и рыболова Витебская'] 0\n",
      "[1 'Вася Атанасова Уикипедия е своеобразно'] 3\n",
      "[1 '«На втората си годишнина Българската'] 3\n",
      "[1 'На той момант ён ужо'] 0\n",
      "[2 '«Festival della Canzone Napoletana» '] 1\n",
      "[3 'Консул Гай Семпроний Тудицан навлиза'] 0\n",
      "[3 'Той успешно действа срещу племената'] 0\n",
      "[3 'Баща му иконом Стамат Пачаджиев'] 0\n",
      "[3 'По времето на Шестата офанзива'] 4\n",
      "[4 'Населените места Кивиоли'] 3\n",
      "[4 'Селото има поледелко-шумарска функција Северно'] 5\n",
      "[4 'Драган Цанков и Никола Сапунов'] 0\n",
      "[4 'Амбасадорот Лобанов-Ростoвски им наредил на'] 0\n",
      "[4 'Бурназовски Тодоров Киро-Бурназ е роден'] 0\n",
      "[4 'По се изгледа тие не'] 3\n",
      "[4 'Денес Отава е значаен културен'] 3\n",
      "[4 'Радиоактивното датирање покажало возраст од'] 5\n",
      "[5 'Особености превода на сродне'] 4\n",
      "[5 'Ова куга, звана црна смрт'] 1\n",
      "[5 'Оно што Мигела спречава да'] 4\n",
      "[5 'Фаза која следи након спајања'] 4\n",
      "[5 'После Еугенове смрти'] 4\n",
      "[5 'Према Гинесовој књизи рекорда'] 4\n",
      "[5 'За време студија на Београдском'] 4\n",
      "[5 'Након рата породица се преселила'] 4\n",
      "[5 'Без обзира на све примедбе'] 3\n",
      "[5 'После четири године проведене у'] 4\n",
      "[5 'Од најближег града'] 4\n",
      "[5 'Након победе социјалиста на парламентарним'] 4\n",
      "0.94\n"
     ]
    }
   ],
   "source": [
    "ans = 0\n",
    "for i in range(len(Y_test)):\n",
    "    if Y_test[i] == y_pred[i]:\n",
    "        ans += 1\n",
    "    else:\n",
    "        print(df_test.values[i], y_pred[i])"
   ]
  },
  {
   "cell_type": "code",
   "execution_count": 263,
   "metadata": {},
   "outputs": [
    {
     "data": {
      "text/plain": [
       "array([0, 'Олег Шилов самостоятельно сделал мачту'], dtype=object)"
      ]
     },
     "execution_count": 263,
     "metadata": {},
     "output_type": "execute_result"
    }
   ],
   "source": []
  },
  {
   "cell_type": "code",
   "execution_count": null,
   "metadata": {},
   "outputs": [],
   "source": []
  },
  {
   "cell_type": "code",
   "execution_count": null,
   "metadata": {},
   "outputs": [],
   "source": []
  },
  {
   "cell_type": "code",
   "execution_count": null,
   "metadata": {},
   "outputs": [],
   "source": []
  },
  {
   "cell_type": "code",
   "execution_count": null,
   "metadata": {},
   "outputs": [],
   "source": []
  },
  {
   "cell_type": "code",
   "execution_count": null,
   "metadata": {},
   "outputs": [],
   "source": []
  },
  {
   "cell_type": "code",
   "execution_count": 69,
   "metadata": {},
   "outputs": [
    {
     "name": "stdout",
     "output_type": "stream",
     "text": [
      "Processing file : ./wikipedia-crawler/ru_clean.txt\n",
      "File size :  17.54 MB  | # possible samples :  186628  | # skip chars : 511\n",
      "----------------------------------------------------------------------------------------------------\n",
      "Processing file : ./wikipedia-crawler/be_clean.txt\n",
      "File size :  3.91 MB  | # possible samples :  41608  | # skip chars : 102\n",
      "----------------------------------------------------------------------------------------------------\n",
      "Processing file : ./wikipedia-crawler/uk_clean.txt\n",
      "File size :  6.89 MB  | # possible samples :  73253  | # skip chars : 191\n",
      "----------------------------------------------------------------------------------------------------\n",
      "Processing file : ./wikipedia-crawler/bg_clean.txt\n",
      "File size :  5.56 MB  | # possible samples :  59175  | # skip chars : 151\n",
      "----------------------------------------------------------------------------------------------------\n",
      "Processing file : ./wikipedia-crawler/mk_clean.txt\n",
      "File size :  5.05 MB  | # possible samples :  53673  | # skip chars : 136\n",
      "----------------------------------------------------------------------------------------------------\n",
      "Processing file : ./wikipedia-crawler/sr_clean.txt\n",
      "File size :  6.11 MB  | # possible samples :  65029  | # skip chars : 168\n",
      "----------------------------------------------------------------------------------------------------\n"
     ]
    }
   ],
   "source": [
    "lang_seq = 0\n",
    "jump_reduce = 0.2\n",
    "X_test = []\n",
    "Y_test = []\n",
    "for lang_code in languages_dict:\n",
    "    start_index = 0\n",
    "    path = os.path.join(\"./wikipedia-crawler/\", lang_code+\"_clean.txt\")\n",
    "    with open(path, 'r', encoding = \"UTF-8\") as f:\n",
    "        print (\"Processing file : \" + path)\n",
    "        file_content = f.read()\n",
    "        content_length = len(file_content)\n",
    "        remaining = content_length - text_sample_size*num_lang_samples\n",
    "        jump = int(((remaining/num_lang_samples)*3)/4)\n",
    "        print (\"File size : \",size_mb(content_length),\\\n",
    "               \" | # possible samples : \",int(content_length/input_size),\\\n",
    "               \" | # skip chars : \" + str(jump))\n",
    "        for idx in range(num_lang_samples):\n",
    "            input_row = get_input_row(file_content,start_index ,text_sample_size)\n",
    "            X_test.append(input_row)\n",
    "            Y_test.append(languages_dict[lang_code])\n",
    "            start_index += text_sample_size + jump\n",
    "    lang_seq += 1\n",
    "    print (100*\"-\")"
   ]
  },
  {
   "cell_type": "code",
   "execution_count": 94,
   "metadata": {},
   "outputs": [
    {
     "data": {
      "text/plain": [
       "list"
      ]
     },
     "execution_count": 94,
     "metadata": {},
     "output_type": "execute_result"
    }
   ],
   "source": [
    "type(X_test)"
   ]
  },
  {
   "cell_type": "code",
   "execution_count": 95,
   "metadata": {},
   "outputs": [
    {
     "name": "stdout",
     "output_type": "stream",
     "text": [
      "Example data before processing:\n",
      "X : \n",
      " [14.  3.  0.  0.  1.  0.  0.  1.  0.  0.  4.  3.  0.  1.  2.  1.  1.  1.\n",
      "  0.  0.  0.  0.  0.  0.  0.  0.  0.  0.  0.  0.  0.  0.  0.  0.  0.  0.\n",
      "  0.  0.  0.  0.  0.  0.  0.  0.  0.  0.  0.  0.  0.  0.  0.  0.  0.  0.\n",
      "  0.  0.  0.  0.  0.  0.  0.  0.  0.  0.  0.  0.  0.  0.  0.  0.  0.  0.\n",
      "  0.  0.  0.  0.  0.  0.  0.  0.  0.  0.  0.  0.  0.  0.  0.  0.  0.  0.\n",
      "  0.  0.  0.  0.]\n",
      "Y : \n",
      " 1.0\n",
      "X preprocessed shape : (150000, 94)\n",
      "Example data after processing:\n",
      "X : \n",
      " [ 2.71464546e+00  3.18446542e+00 -7.54155910e-01 -4.77963209e-01\n",
      " -2.61716108e-03 -9.11071768e-01 -2.72007100e-01  3.73048056e-01\n",
      " -8.89422652e-01 -2.99685080e-01  1.68905185e+00  1.24270127e+00\n",
      " -5.50329888e-01 -5.88990428e-01 -3.24726069e-01  3.39272592e-01\n",
      " -2.43833359e-01 -2.49315012e-01 -8.63319068e-01 -5.35092097e-01\n",
      " -1.93202332e-01 -3.00311717e-01 -3.51280798e-01 -3.66781212e-01\n",
      " -2.82773103e-01 -1.47222662e-01 -1.58575429e-01 -3.35588227e-01\n",
      " -2.96668244e-01 -1.54695589e-01 -2.03361605e-01 -4.38321886e-01\n",
      " -1.10860937e-01 -7.16692058e-02 -5.02486680e-02 -1.11144479e-01\n",
      " -1.80768751e-02 -4.27343366e-01 -1.40600748e-01 -3.16574943e-01\n",
      " -9.91253331e-02 -1.43480553e-01 -9.70864554e-02 -6.03635613e-02\n",
      " -2.04906306e-01 -3.26841101e-02 -1.71198820e-02 -1.49217379e-02\n",
      " -1.43641316e-02 -6.00010800e-03 -3.74071347e-02 -6.90081990e-03\n",
      " -5.40504153e-02 -9.66136871e-03 -5.93431327e-02 -8.52604574e-03\n",
      " -2.28165747e-02 -7.74619908e-03 -3.89252421e-03 -3.46412240e-03\n",
      " -1.76841553e-02 -1.45023717e-01 -1.36193592e-01 -1.62813214e-01\n",
      " -1.14144570e-01 -1.16995057e-01 -8.94191069e-02 -3.94070520e-02\n",
      " -1.01564611e-01 -9.24239866e-02 -2.01076052e-02 -1.51594327e-01\n",
      " -9.17763642e-02 -1.40391411e-01 -1.47296558e-01 -1.09420906e-01\n",
      " -1.77708755e-01 -1.36937016e-01 -1.76854161e-01 -1.22749317e-01\n",
      " -1.28650378e-01 -7.99441499e-02 -8.29673421e-02 -6.41865746e-02\n",
      " -6.27640590e-02 -6.77285110e-02 -2.41879537e-02 -2.58199750e-03\n",
      "  0.00000000e+00 -3.26600374e-03 -3.47236825e-02 -4.03565826e-02\n",
      " -4.73893671e-02 -8.85649618e-03]\n",
      "Y : \n",
      " [0. 1. 0. 0. 0. 0.]\n",
      "./train_test_data_94.npz size :  6.55 MB\n"
     ]
    }
   ],
   "source": [
    "from keras.utils import np_utils\n",
    "\n",
    "X = np.asanyarray(X_test, dtype=np.float64)\n",
    "Y = np.asanyarray(Y_test, dtype=np.float64)\n",
    "\n",
    "\n",
    "random_index = random.randrange(0,X.shape[0])\n",
    "print(\"Example data before processing:\")\n",
    "print(\"X : \\n\", X[random_index,])\n",
    "print(\"Y : \\n\", Y[random_index])\n",
    "Y = np_utils.to_categorical(Y, len(languages_dict))\n",
    "#time.sleep(120) # sleep time to allow release memory. This step is very memory consuming\n",
    "# X preprocessing\n",
    "# standar scaler will be useful laterm during DNN prediction\n",
    "standard_scaler = preprocessing.StandardScaler().fit(X)\n",
    "X = standard_scaler.transform(X)   \n",
    "print (\"X preprocessed shape :\", X.shape)\n",
    "# Y one-hot encoding\n",
    "\n",
    "# See the sample data\n",
    "print(\"Example data after processing:\")\n",
    "print(\"X : \\n\", X[random_index,])\n",
    "print(\"Y : \\n\", Y[random_index])\n",
    "# train/test split. Static seed to have comparable results for different runs\n",
    "seed = 42\n",
    "X_train, X_test, Y_train, Y_test = train_test_split(X, Y, test_size=0.20, random_state=seed)\n",
    "del X, Y\n",
    "# wait for memory release again\n",
    "#time.sleep(120)\n",
    "# save train/test arrays to file \n",
    "path_tt = os.path.join(\"./\"+\"train_test_data_\"+str(input_size)+\".npz\")\n",
    "np.savez_compressed(path_tt,X_train=X_train,Y_train=Y_train,X_test=X_test,Y_test=Y_test)\n",
    "print(path_tt, \"size : \",size_mb(os.path.getsize(path_tt)))\n",
    "del X_train,Y_train,X_test,Y_test"
   ]
  },
  {
   "cell_type": "code",
   "execution_count": 96,
   "metadata": {},
   "outputs": [
    {
     "name": "stdout",
     "output_type": "stream",
     "text": [
      "X_train:  (120000, 94)\n",
      "Y_train:  (120000, 6)\n",
      "X_test:  (30000, 94)\n",
      "Y_test:  (30000, 6)\n"
     ]
    }
   ],
   "source": [
    "# load train data first from file\n",
    "path_tt = os.path.join(\"./\",\"train_test_data_\"+str(input_size)+\".npz\")\n",
    "train_test_data = np.load(path_tt)\n",
    "X_train = train_test_data['X_train']\n",
    "print (\"X_train: \",X_train.shape)\n",
    "Y_train = train_test_data['Y_train']\n",
    "print (\"Y_train: \",Y_train.shape)\n",
    "X_test = train_test_data['X_test']\n",
    "print (\"X_test: \",X_test.shape)\n",
    "Y_test = train_test_data['Y_test']\n",
    "print (\"Y_test: \",Y_test.shape)\n",
    "del train_test_data"
   ]
  },
  {
   "cell_type": "code",
   "execution_count": 97,
   "metadata": {},
   "outputs": [
    {
     "name": "stdout",
     "output_type": "stream",
     "text": [
      "94\n"
     ]
    },
    {
     "name": "stderr",
     "output_type": "stream",
     "text": [
      "C:\\Users\\narek\\Anaconda3\\lib\\site-packages\\ipykernel_launcher.py:5: UserWarning: Update your `Dense` call to the Keras 2 API: `Dense(500, input_dim=94, activation=\"sigmoid\", kernel_initializer=\"glorot_uniform\")`\n",
      "  \"\"\"\n",
      "C:\\Users\\narek\\Anaconda3\\lib\\site-packages\\ipykernel_launcher.py:7: UserWarning: Update your `Dense` call to the Keras 2 API: `Dense(300, activation=\"sigmoid\", kernel_initializer=\"glorot_uniform\")`\n",
      "  import sys\n",
      "C:\\Users\\narek\\Anaconda3\\lib\\site-packages\\ipykernel_launcher.py:9: UserWarning: Update your `Dense` call to the Keras 2 API: `Dense(100, activation=\"sigmoid\", kernel_initializer=\"glorot_uniform\")`\n",
      "  if __name__ == '__main__':\n",
      "C:\\Users\\narek\\Anaconda3\\lib\\site-packages\\ipykernel_launcher.py:11: UserWarning: Update your `Dense` call to the Keras 2 API: `Dense(6, activation=\"softmax\", kernel_initializer=\"glorot_uniform\")`\n",
      "  # This is added back by InteractiveShellApp.init_path()\n"
     ]
    }
   ],
   "source": [
    "# create DNN using Keras Sequential API\n",
    "# I added Dropout to prevent overfitting\n",
    "print(input_size)\n",
    "model = Sequential()\n",
    "model.add(Dense(500,input_dim=input_size,init=\"glorot_uniform\",activation=\"sigmoid\"))\n",
    "model.add(Dropout(0.5))\n",
    "model.add(Dense(300,init=\"glorot_uniform\",activation=\"sigmoid\"))\n",
    "model.add(Dropout(0.5))\n",
    "model.add(Dense(100,init=\"glorot_uniform\",activation=\"sigmoid\"))\n",
    "model.add(Dropout(0.5))\n",
    "model.add(Dense(len(languages_dict),init=\"glorot_uniform\",activation=\"softmax\"))\n",
    "model_optimizer = keras.optimizers.Adam(lr=0.001, beta_1=0.9, beta_2=0.999, epsilon=1e-08, decay=0.0)\n",
    "model.compile(loss='categorical_crossentropy',\n",
    "              optimizer=model_optimizer,\n",
    "              metrics=['accuracy'])"
   ]
  },
  {
   "cell_type": "code",
   "execution_count": 98,
   "metadata": {},
   "outputs": [
    {
     "name": "stdout",
     "output_type": "stream",
     "text": [
      "_________________________________________________________________\n",
      "Layer (type)                 Output Shape              Param #   \n",
      "=================================================================\n",
      "dense_5 (Dense)              (None, 500)               47500     \n",
      "_________________________________________________________________\n",
      "dropout_4 (Dropout)          (None, 500)               0         \n",
      "_________________________________________________________________\n",
      "dense_6 (Dense)              (None, 300)               150300    \n",
      "_________________________________________________________________\n",
      "dropout_5 (Dropout)          (None, 300)               0         \n",
      "_________________________________________________________________\n",
      "dense_7 (Dense)              (None, 100)               30100     \n",
      "_________________________________________________________________\n",
      "dropout_6 (Dropout)          (None, 100)               0         \n",
      "_________________________________________________________________\n",
      "dense_8 (Dense)              (None, 6)                 606       \n",
      "=================================================================\n",
      "Total params: 228,506\n",
      "Trainable params: 228,506\n",
      "Non-trainable params: 0\n",
      "_________________________________________________________________\n"
     ]
    }
   ],
   "source": [
    "model.summary()"
   ]
  },
  {
   "cell_type": "code",
   "execution_count": 99,
   "metadata": {},
   "outputs": [
    {
     "name": "stderr",
     "output_type": "stream",
     "text": [
      "C:\\Users\\narek\\Anaconda3\\lib\\site-packages\\ipykernel_launcher.py:8: UserWarning: The `nb_epoch` argument in `fit` has been renamed `epochs`.\n",
      "  \n"
     ]
    },
    {
     "name": "stdout",
     "output_type": "stream",
     "text": [
      "Train on 108000 samples, validate on 12000 samples\n",
      "Epoch 1/12\n",
      " - 14s - loss: 0.9280 - acc: 0.6174 - val_loss: 0.6838 - val_acc: 0.7113\n",
      "Epoch 2/12\n",
      " - 14s - loss: 0.7412 - acc: 0.6915 - val_loss: 0.6460 - val_acc: 0.7291\n",
      "Epoch 3/12\n",
      " - 14s - loss: 0.7078 - acc: 0.7030 - val_loss: 0.6311 - val_acc: 0.7275\n",
      "Epoch 4/12\n",
      " - 14s - loss: 0.6896 - acc: 0.7106 - val_loss: 0.6150 - val_acc: 0.7402\n",
      "Epoch 5/12\n",
      " - 14s - loss: 0.6766 - acc: 0.7147 - val_loss: 0.6125 - val_acc: 0.7353\n",
      "Epoch 6/12\n",
      " - 14s - loss: 0.6624 - acc: 0.7203 - val_loss: 0.6018 - val_acc: 0.7422\n",
      "Epoch 7/12\n",
      " - 14s - loss: 0.6553 - acc: 0.7230 - val_loss: 0.5965 - val_acc: 0.7436\n",
      "Epoch 8/12\n",
      " - 14s - loss: 0.6465 - acc: 0.7273 - val_loss: 0.5905 - val_acc: 0.7448\n",
      "Epoch 9/12\n",
      " - 14s - loss: 0.6410 - acc: 0.7303 - val_loss: 0.5853 - val_acc: 0.7465\n",
      "Epoch 10/12\n",
      " - 14s - loss: 0.6367 - acc: 0.7325 - val_loss: 0.5864 - val_acc: 0.7419\n",
      "Epoch 11/12\n",
      " - 14s - loss: 0.6330 - acc: 0.7362 - val_loss: 0.5809 - val_acc: 0.7459\n",
      "Epoch 12/12\n",
      " - 14s - loss: 0.6291 - acc: 0.7367 - val_loss: 0.5762 - val_acc: 0.7556\n"
     ]
    }
   ],
   "source": [
    "# let's fit the data\n",
    "# history variable will help us to plot results later\n",
    "history = model.fit(X_train,Y_train,\n",
    "          nb_epoch=12,\n",
    "          validation_split=0.10,\n",
    "          batch_size=32,\n",
    "          verbose=2,\n",
    "          shuffle=True)"
   ]
  },
  {
   "cell_type": "code",
   "execution_count": 100,
   "metadata": {},
   "outputs": [
    {
     "name": "stdout",
     "output_type": "stream",
     "text": [
      "30000/30000 [==============================] - 1s 38us/step\n",
      "acc: 75.20%\n"
     ]
    }
   ],
   "source": [
    "# now we will face the TRUTH. What is our model real accuracy tested on unseen data?\n",
    "scores = model.evaluate(X_test, Y_test, verbose=1)\n",
    "print(\"%s: %.2f%%\" % (model.metrics_names[1], scores[1]*100))"
   ]
  },
  {
   "cell_type": "code",
   "execution_count": 101,
   "metadata": {},
   "outputs": [],
   "source": [
    "# and now we will prepare data for scikit-learn classification report\n",
    "Y_pred = model.predict_classes(X_test)\n",
    "Y_pred = np_utils.to_categorical(Y_pred, len(languages_dict))"
   ]
  },
  {
   "cell_type": "code",
   "execution_count": 102,
   "metadata": {},
   "outputs": [
    {
     "name": "stdout",
     "output_type": "stream",
     "text": [
      "             precision    recall  f1-score   support\n",
      "\n",
      "         ru       0.72      0.74      0.73      4915\n",
      "         be       0.94      0.90      0.92      5015\n",
      "         uk       0.93      0.77      0.84      5031\n",
      "         bg       0.68      0.69      0.68      5052\n",
      "         mk       0.60      0.67      0.63      5036\n",
      "         sr       0.71      0.74      0.73      4951\n",
      "\n",
      "avg / total       0.76      0.75      0.76     30000\n",
      "\n"
     ]
    }
   ],
   "source": [
    "# and run the report\n",
    "target_names =  list(languages_dict.keys())\n",
    "print(classification_report(Y_test, Y_pred, target_names=target_names))"
   ]
  },
  {
   "cell_type": "code",
   "execution_count": 103,
   "metadata": {},
   "outputs": [
    {
     "data": {
      "image/png": "[encoded data removed]",
      "text/plain": [
       "<Figure size 432x288 with 1 Axes>"
      ]
     },
     "metadata": {},
     "output_type": "display_data"
    }
   ],
   "source": [
    "# show plot accuracy changes during training\n",
    "plt.plot(history.history['acc'],'g')\n",
    "plt.plot(history.history['val_acc'],'r')\n",
    "plt.title('accuracy across epochs')\n",
    "plt.ylabel('accuracy level')\n",
    "plt.xlabel('# epoch')\n",
    "plt.legend(['train', 'test'], loc='lower right')\n",
    "plt.show()"
   ]
  },
  {
   "cell_type": "code",
   "execution_count": 104,
   "metadata": {},
   "outputs": [
    {
     "data": {
      "image/png": "[encoded data removed]",
      "text/plain": [
       "<Figure size 432x288 with 1 Axes>"
      ]
     },
     "metadata": {},
     "output_type": "display_data"
    }
   ],
   "source": [
    "# show plot of loss changes during training\n",
    "plt.plot(history.history['loss'])\n",
    "plt.plot(history.history['val_loss'])\n",
    "plt.title('model loss')\n",
    "plt.ylabel('loss')\n",
    "plt.xlabel('epoch')\n",
    "plt.legend(['train', 'test'], loc='upper left')\n",
    "plt.show()"
   ]
  },
  {
   "cell_type": "code",
   "execution_count": null,
   "metadata": {},
   "outputs": [],
   "source": []
  },
  {
   "cell_type": "code",
   "execution_count": 105,
   "metadata": {},
   "outputs": [],
   "source": [
    "X_val = pd.read_csv('./task2-dev.csv')"
   ]
  },
  {
   "cell_type": "code",
   "execution_count": 106,
   "metadata": {},
   "outputs": [],
   "source": [
    "X = []\n",
    "y = []\n",
    "for i in X_val.values:\n",
    "    input_row = get_for_pred_row(i[1])\n",
    "    X.append(input_row)\n",
    "    y.append(i[0])"
   ]
  },
  {
   "cell_type": "code",
   "execution_count": 107,
   "metadata": {},
   "outputs": [],
   "source": [
    "test_array = standard_scaler.transform(X) "
   ]
  },
  {
   "cell_type": "code",
   "execution_count": 108,
   "metadata": {},
   "outputs": [],
   "source": [
    "Y_pred = model.predict_classes(test_array)"
   ]
  },
  {
   "cell_type": "code",
   "execution_count": 109,
   "metadata": {},
   "outputs": [
    {
     "data": {
      "text/plain": [
       "array([[-0.93562144, -0.41391805, -0.75415591, ..., -0.04035658,\n",
       "        -0.04738937, -0.0088565 ],\n",
       "       [-0.93562144, -0.41391805, -0.75415591, ..., -0.04035658,\n",
       "        -0.04738937, -0.0088565 ],\n",
       "       [-0.93562144, -0.41391805, -0.75415591, ..., -0.04035658,\n",
       "        -0.04738937, -0.0088565 ],\n",
       "       ...,\n",
       "       [-0.93562144, -0.41391805, -0.75415591, ..., -0.04035658,\n",
       "        -0.04738937, -0.0088565 ],\n",
       "       [-0.93562144, -0.41391805, -0.75415591, ..., -0.04035658,\n",
       "        -0.04738937, -0.0088565 ],\n",
       "       [-0.93562144, -0.41391805, -0.75415591, ..., -0.04035658,\n",
       "        -0.04738937, -0.0088565 ]])"
      ]
     },
     "execution_count": 109,
     "metadata": {},
     "output_type": "execute_result"
    }
   ],
   "source": [
    "test_array"
   ]
  },
  {
   "cell_type": "code",
   "execution_count": 110,
   "metadata": {},
   "outputs": [
    {
     "name": "stdout",
     "output_type": "stream",
     "text": [
      "[1 'Паўднёвыя алтайцы — асабіста алтайцы'] 0\n",
      "[1 'У савецкі час пачалі выдавацца'] 0\n",
      "[1 'У першую чаргу'] 0\n",
      "[1 'Уваходзіў у склад Адукацыйнай камісіі'] 0\n",
      "[1 'Быў паслядоўным прыхільнікам пераходу да'] 0\n",
      "[1 'У зборы прадстаўлены цыкл фрэсак'] 0\n",
      "[1 'Выхоўваўся пры двары англійскага караля'] 0\n",
      "[1 'Акрамя таго, спрэчная вобласць мела'] 0\n",
      "[1 'Таварыства атрымала для навуковых даследаванняў'] 0\n",
      "[1 'У XIX стагоддзі Пруская акадэмія'] 0\n",
      "[1 'У супрацьлегласць Кіеву'] 0\n",
      "[1 'На прамавугольнай частцы плошчы быў'] 0\n",
      "[1 'Па заканчэнні сезону «Баварыя» абвясціла'] 0\n",
      "[1 'Вучыўся ў езуіцкай семінарыі ў'] 0\n",
      "[1 'Гуманістычнае і талерантнае стаўленне да'] 0\n",
      "[1 'Як правіла, афарбоўка верхняй часткі'] 0\n",
      "[1 'месцаў, адкрытыя трыбуны з услонамі'] 0\n",
      "[1 'Адчыняў стадыён вайсковы аркестр і'] 0\n",
      "[1 'Марфалогія Ыфкуіл сінтэтычная аглютынатыўная мова'] 0\n",
      "[1 'Выхаванец ДЮСШ запарожскага «Металурга»'] 0\n",
      "[1 'Футбаліст правёў на полі ўсе'] 0\n",
      "[1 'Найбольш вядомыя роспісы — у'] 0\n",
      "[1 'Са станковых палотнаў характэрны «Партрэт'] 0\n",
      "[1 'Акрамя таго, біёграф папракае мастака'] 0\n",
      "[1 'На першых этапах дзейнасці Палескай'] 0\n",
      "[1 'Камандаванне Палескай Сечы гэта задаволіла'] 0\n",
      "[1 'Плод ляшчыны — аднанасенны амаль'] 0\n",
      "[1 'Паводле гэтай думкі'] 0\n",
      "[1 'маглі быць прасторы сушы Паўднёва-Усходняй'] 0\n",
      "[1 'Уся фігурка аздоблена шматлікімі цыркульнымі'] 0\n",
      "[1 'Частка Каўказа, што прылягала да'] 0\n",
      "[1 'Не выключна, што назва паходзіць'] 0\n",
      "[1 'Тычынкавыя кветкі ў доўгіх віслых'] 0\n",
      "[1 'Генетыкі таксама выявілі сувязі ў'] 0\n",
      "[1 'Адным з першых вядомых самастойных'] 0\n",
      "[1 \"Ён здолеў аб'яднаць або заваяваць\"] 0\n",
      "[1 'Прадстаўнік шляхецкага роду Пацаў герба'] 0\n",
      "[1 'Падчас рокашу Любамірскага падтрымаў караля'] 0\n",
      "[1 'Сапернік Яна Сабескага'] 0\n",
      "[1 'Жанаты на Сара і Со'] 0\n",
      "[1 'Лігурыя знаходзіцца на беразе Лігурыйскага'] 0\n",
      "[1 'Пасля захопу Аўстрыі фашысцкай Германіяй'] 0\n",
      "[1 'З Новасібірска пачынаецца магістральная федэральная'] 0\n",
      "[1 'Па форме панцыра асноўная сістэмная'] 0\n",
      "[1 'Рэкі належаць басейнам Баранцава р.Паз'] 0\n",
      "[1 'Утрымліваючы і пашыраючы плацдарм'] 0\n",
      "[1 'Барыс Прохаравіч Круталевіч'] 0\n",
      "[1 'На захадзе астравам абмываюцца морам'] 0\n",
      "[1 'Ван, адна з гістарычных сталіц'] 0\n",
      "[1 'Быў адным з заснавальнікаў таварыства'] 0\n",
      "[1 'На галаве і пярэдняй частцы'] 0\n",
      "[1 'Потым, не вядомае па якіх'] 0\n",
      "[1 'Дачка Вера Васільеўна — у'] 0\n",
      "[1 'У сувязі з гэтым інтрадуцыраваная'] 0\n",
      "[1 'Дываны прынеслі гэтым вёсках сусветную'] 0\n",
      "[1 'Спачатку, калі будынак быў пабудаваны'] 0\n",
      "[1 'З-за таго, што імя Басараба'] 0\n",
      "[1 'У XIV стагоддзі горад уваходзіў'] 0\n",
      "[1 'Падчас Першай сусветнай вайны горад'] 0\n",
      "[1 'Пасля каранацыі Жыгімонта Вазы і'] 0\n",
      "[1 'Спачатку абраў у якасці асноўнага'] 0\n",
      "[1 'Атлас охотника и рыболова Витебская'] 0\n",
      "[1 'Тэрыторыя была перададзена дзяржаве ў'] 0\n",
      "[1 'На пасту міністра ўнутраных спраў'] 0\n",
      "[1 'Ефрасінні быў узведзены мураваны Спаса-Праабражэнскі'] 0\n",
      "[1 'За гэтую дзейнасць заснавальнікі бюро'] 0\n",
      "[1 'Вакол горада Кандагар размешчаны аазіс'] 0\n",
      "[1 'Тыповымі прадметамі для імправізаванай самаабароны'] 0\n",
      "[1 'У выніку паездак па Міншчыне'] 0\n",
      "[1 'Сканструяваў тэрмаэлектронны пірометр'] 0\n",
      "[1 'Вучыўся ў царкоўнапрыходскай школе'] 0\n",
      "[1 'Таксама кіраваў Барысаўскай краязнаўчай філіяй'] 0\n",
      "[1 'Абодва палкаводца выратавалі ваенную славу'] 0\n",
      "[1 'Пасля гэтага Скаліну ўдалося вярнуцца'] 0\n",
      "[1 'Скалін спрабаваў праводзіць палітыку «аздараўлення'] 0\n",
      "[1 'Гэтыя жывёлы водзяцца толькі ў'] 0\n",
      "[1 'Срэбраны прызёр чэмпіянату Беларусі на'] 0\n",
      "[1 'У абмен на гэта Японія'] 0\n",
      "[1 'Асноўнай умовай для канкурсантаў з'] 0\n",
      "[1 'Меркавалася падаўжэнне Горкаўска-Замаскварэцкага радыуса яшчэ'] 0\n",
      "[1 'патрапіла пад няволю туркаў і'] 0\n",
      "[1 'Македонская Царква напераменку залежыла то'] 0\n",
      "[1 'Фашысцкая акупацыя і наступны сацыялістычны'] 0\n",
      "[1 'Першапачаткова калектыў працаваў пры Беларускім'] 0\n",
      "[1 'Акцёры пачалі ўладкоўвацца ў іншыя'] 0\n",
      "[1 'Спачатку вучыўся ў Кейданскім дваранскім'] 0\n",
      "[1 'Даліну Аран, у іспанскіх Пірэнеях'] 0\n",
      "[1 'Былі скасаваныя вызначаныя вобласці Жэзказганская'] 0\n",
      "[1 'Сотні тысяч яўрэяў-ваенных загінулі'] 0\n",
      "[1 'Скончыў Львоўскі гандлёва эканамічны інстытут'] 0\n",
      "[1 'На конкурс паступіла больш за'] 0\n",
      "[1 'Ён таксама назваў сваю дзяржаву'] 0\n",
      "[1 'Вася Атанасова Уикипедия е своеобразно'] 0\n",
      "[1 '«На втората си годишнина Българската'] 0\n",
      "[1 'На той момант ён ужо'] 0\n",
      "[1 'былі рознага колеру'] 0\n",
      "[1 'Галоўны яго твор — трылогія'] 0\n",
      "[1 'Патомны ваенны, бацька Мухамеда служыў'] 0\n",
      "[1 'Да моманту здабыцця Пакістанам незалежнасці'] 0\n",
      "[1 'Такім чынам, напісанне Карл Тэадор'] 0\n",
      "[2 'Незабаром після закінчення університету перейшов'] 0\n",
      "[2 'Залишив багату творчу спадщину понад'] 0\n",
      "[2 'У Санкт-Петеребургскій філії архіву РАН'] 0\n",
      "[2 'На вулиці Гагаріна'] 0\n",
      "[2 'На станції є маленький вокзал'] 0\n",
      "[2 'Санскритський корінь дієслова кіртт означає'] 0\n",
      "[2 'Значення слова кіртан часто трактується'] 0\n",
      "[2 'Завданням практикуючого кіртан є на'] 0\n",
      "[2 'Всі дії в кіртані мають'] 0\n",
      "[2 'Секрет дієвості цього методу криється'] 0\n",
      "[2 'Йоги вважали, що акустичні хвилі'] 0\n",
      "[2 'Цьому ефекту відповідає санскритський алфавіт'] 0\n",
      "[2 'Одночасно з цим людина може'] 0\n",
      "[2 'Коли люди відчувають виключну ступінь'] 0\n",
      "[2 'Протилежне теж вірно коли люди'] 0\n",
      "[2 'Тому руки танцюючих під час'] 0\n",
      "[2 'Кіртан простий, доступний і не'] 0\n",
      "[2 'Ця історична подія поклала початок'] 0\n",
      "[2 'У школі Віларта познайомився з'] 0\n",
      "[2 'Тут він заснував і підняв'] 0\n",
      "[2 'Композитор ввічливо ухилився від кардинальского'] 0\n",
      "[2 'Свої останні роки Порта провів'] 0\n",
      "[2 'Група студентів робить документальний фільм'] 0\n",
      "[2 'Студенти сховалися у Гансовій машині'] 0\n",
      "[2 'Пізніше побачили, що їхня власна'] 0\n",
      "[2 'Ганс показав їм струмок і'] 0\n",
      "[2 'Лексична насиченість L K N'] 0\n",
      "[2 'У сутичці за бронзову нагороду'] 0\n",
      "[2 'Видобуток вугілля показаний у вигляді'] 0\n",
      "[2 \"Так в гербі возз'єдналися минуле\"] 0\n",
      "[2 'Виходить як у тому крилатому'] 0\n",
      "[2 'Планувалася кільцева лінія сучасними Олександрійським'] 0\n",
      "[2 'З відкриттям цих ділянок загальна'] 0\n",
      "[2 'Вважається вихованцем юнацьких команд футбольних'] 0\n",
      "[2 'Після звільнення перейшов у підпілля'] 0\n",
      "[2 'Кур єр Проводу ЗЧ ОУН'] 0\n",
      "[2 'Загинув у сутичці з агентурно-бойовою'] 0\n",
      "[2 'Термін «віртуальність» походить від латинського'] 0\n",
      "[2 'Пізніше з нього виник прикметник'] 0\n",
      "[2 'В середньовічній схоластиці «енергейя» перекладалося'] 0\n",
      "[2 'Тома Аквінський за допомогою терміна'] 0\n",
      "[2 'Зокрема це стосувалося незареєстрованих'] 0\n",
      "[2 'Продукт полімеризації двох молекул називають'] 0\n",
      "[2 'Сполучення мономерів у полімери відбувається'] 0\n",
      "[2 'Прикладами реакції полімеризації є реакції'] 0\n",
      "[2 'Вони відзначили, що змінна зоря'] 0\n",
      "[2 'Наявність кругової поляризації в AM'] 0\n",
      "[2 \"Таким чином, з'явився цілий новий\"] 0\n",
      "[2 'Назву «поляр» запропонували польські астрономи'] 0\n",
      "[2 'Денні Ромен — один із'] 0\n",
      "[2 'Проте його звинувачуються у вбивстві'] 0\n",
      "[2 'Став правителем Болгарії'] 0\n",
      "[2 'Після того Борис призначив свого'] 0\n",
      "[2 'Припускають, що Володимира було вбито'] 0\n",
      "[2 'За три роки Євген поховав'] 0\n",
      "[2 'Вчився в церковно-приходській школі'] 0\n",
      "[2 'Він запропонував Горбачеві відвідувати відкриті'] 0\n",
      "[2 'Далі Є. Горбач вступає до'] 0\n",
      "[2 'Герань блискуча — однорічна рослина'] 0\n",
      "[2 \"Нагір'я Центральної Шрі-Ланки вкриті вологими\"] 0\n",
      "[2 'До їхнього складу входять центральний'] 0\n",
      "[2 'Гірський хребет Наклс має середню'] 0\n",
      "[2 'На південно-західних схилах спостерігається один'] 0\n",
      "[2 'На північно-східних схилах додається другий'] 0\n",
      "[2 'Протидесантна оборона організовується командувачем командиром'] 0\n",
      "[2 'В основу її організації ставляться'] 0\n",
      "[2 \"Спрямував посольство до міста Комп'єна\"] 0\n",
      "[2 'Чедраг намагався перетягнути владу на'] 0\n",
      "[2 'Славомир зазнав поразки й його'] 0\n",
      "[2 'Того ж року став споруджувати'] 0\n",
      "[2 'Втім ймовірно вирішив дійсно розпочати'] 0\n",
      "[2 'За рішення імператора Людовика I'] 0\n",
      "[2 'При цьому намагався посилити свою'] 0\n",
      "[2 'Призначений для маневрової'] 0\n",
      "[2 'Тут Доменіко ходив до початкової'] 0\n",
      "[2 'Середня школа, у якій він'] 0\n",
      "[2 '«Festival della Canzone Napoletana» '] 0\n",
      "[2 'Пісня стала переможницею конкурсу і'] 0\n",
      "[2 'Це був щасливий час для'] 0\n",
      "[2 'Пізніше його пісню «Io» або'] 0\n",
      "[2 'На хвилі популярності Модуньйо зіграв'] 0\n",
      "[2 'Він виступав як співак'] 0\n",
      "[2 'Його син Массімо пішов по'] 0\n",
      "[2 '«Розрита могила» — вірш Шевченка'] 0\n",
      "[2 'У цій поезії звучить протест'] 0\n",
      "[2 'Петро Іванович навчався в Охтирському'] 0\n",
      "[2 'Петро Ліницький вивчав проблеми історії'] 0\n",
      "[2 'Змішаний ліс тягнеться від нижньої'] 0\n",
      "[2 'Навчався в хедері'] 0\n",
      "[2 'У юнацькі роки він також'] 0\n",
      "[2 'У ньому він зіграв роль'] 0\n",
      "[2 'Крім того, як стверджував Джессі'] 0\n",
      "[2 'Але справді відомим актором Ван'] 0\n",
      "[2 'Належав до нащадків хана Чагатая'] 0\n",
      "[2 'Відомо лише декілька монет срібних'] 0\n",
      "[2 'Цим протистоянням скористався Туглуг-Тимур'] 0\n",
      "[2 'Вентиляція Вентиляція шахти Вентиляція місцева'] 0\n",
      "[2 'Назва «Пулау-Убін» з малайскої буквально'] 0\n",
      "[2 'Пулау означає «острів»'] 0\n",
      "[2 'До малайців, острів був відомий'] 0\n",
      "[3 'За капак той трябва да'] 0\n",
      "[3 'По-късни изследвания установяват разпространението му'] 0\n",
      "[3 'Статут на град получава през'] 0\n",
      "[3 'Селото е разположено на около'] 0\n",
      "[3 'Състои се от две махали'] 0\n",
      "[3 'Семейството на баща му е'] 0\n",
      "[3 'Става първият, посочил и разкрил'] 0\n",
      "[3 'Прави карта на римските пътища'] 0\n",
      "[3 'Въпреки това Еванс запазва репутацията'] 0\n",
      "[3 'Поканен е неофициално на Версайската'] 0\n",
      "[3 'След смъртта на Еванс през'] 0\n",
      "[3 'далматите нападат илирийските съюзници на'] 0\n",
      "[3 'Войната с далматите продължава Сципион'] 0\n",
      "[3 'Консул Гай Семпроний Тудицан навлиза'] 0\n",
      "[3 'Първите кампании в Панония са'] 0\n",
      "[3 'Вторият поход на Луций Цецилий'] 0\n",
      "[3 'при Стоби римляните са разбити'] 0\n",
      "[3 'Положението се усложнява от пламналия'] 0\n",
      "[3 'се бори успешно със скордиските'] 0\n",
      "[3 'Гай Юлий Цезар е управител'] 0\n",
      "[3 'По време на Гражданската война'] 0\n",
      "[3 'Явно запазили лоши спомени за'] 0\n",
      "[3 'в Илирик е изпратен с'] 0\n",
      "[3 'Той успешно действа срещу племената'] 0\n",
      "[3 'Страдащи от недостиг на храна'] 0\n",
      "[3 'След убийството на Цезар племената'] 0\n",
      "[3 'Сведенията за католици във Варна'] 0\n",
      "[3 'Той също обслужвал френски и'] 0\n",
      "[3 'В резултат на което Варна'] 0\n",
      "[3 'Светата литургия не се обслужва'] 0\n",
      "[3 'Архангел Михаил е използван за'] 0\n",
      "[3 'Бузите, плещите и една тънка'] 0\n",
      "[3 'Долната страна на тялото е'] 0\n",
      "[3 'Средните опашни пера са черни'] 0\n",
      "[3 'Отдалечено е от Солун на'] 0\n",
      "[3 'Това е най-малката планета в'] 0\n",
      "[3 'Меркурий е съставен по маса'] 0\n",
      "[3 'Плътността на Меркурий дава възможност'] 0\n",
      "[3 'Меркурий има най-високото желязно съдържание'] 0\n",
      "[3 'Представени са няколко теории'] 0\n",
      "[3 'Подобна теория се стреми да'] 0\n",
      "[3 'Първоначалната маса на планетата е'] 0\n",
      "[3 'Командващ парада е командирът на'] 0\n",
      "[3 'Посещение на президента Владимир Путин'] 0\n",
      "[3 'Посещение на министър-председателя Войслав Кощуница'] 0\n",
      "[3 'Визита на президента Борис Тадич'] 0\n",
      "[3 'Стефан Попстаматов е роден около'] 0\n",
      "[3 'Баща му иконом Стамат Пачаджиев'] 0\n",
      "[3 'След разкритието на комитета се'] 0\n",
      "[3 'Причина за това е голямата'] 0\n",
      "[3 'В тези места населението е'] 0\n",
      "[3 'Правителството и бизнеса обмислят над'] 0\n",
      "[3 'Никола Андреев е роден през'] 0\n",
      "[3 'Четник е за кратко при'] 0\n",
      "[3 'Негов внук е Кузман Андреев'] 0\n",
      "[3 'Списък на побратимени градове на'] 0\n",
      "[3 'Филмът разказва за спасението на'] 0\n",
      "[3 'Открива, че негова позната, на'] 0\n",
      "[3 'Всъщност той го прави под'] 0\n",
      "[3 'Ралф и Луиз смятат'] 0\n",
      "[3 'След окупацията на Западна Македония'] 0\n",
      "[3 'Тя също се включва като'] 0\n",
      "[3 'На петнадесет години влиза в'] 0\n",
      "[3 'По времето на Шестата офанзива'] 0\n",
      "[3 'После става член на местния'] 0\n",
      "[3 'Обявена е за народен герой'] 0\n",
      "[3 'Избухвания в гама лъчи от'] 0\n",
      "[3 'Завръща се във Видин през'] 0\n",
      "[3 'Става член на Консервативната партия'] 0\n",
      "[3 'По негова инициатива реалната гимназия'] 0\n",
      "[3 'По време на неговият мандат'] 0\n",
      "[3 'Градът и замъкът са унищожени'] 0\n",
      "[3 'Минава през всички възрастови гарнитури'] 0\n",
      "[3 'Размножават се чрез хайвер'] 0\n",
      "[3 'Тривиумът е подготовка за квадривиума'] 0\n",
      "[3 'Обединяването на тривиума с квадривиума'] 0\n",
      "[3 'Сериалът акцентира върху Кордел Уокър'] 0\n",
      "[3 'Уокър е израснал при чичо'] 0\n",
      "[3 'Уокър е много близък и'] 0\n",
      "[3 'Паркър Ноубъл Уилингъм '] 0\n",
      "[3 'Той подчертава значението на правилното'] 0\n",
      "[3 'Веднага след баня пациентът се'] 0\n",
      "[3 'Вдъхновени от работата на бащата'] 0\n",
      "[3 'Куне създава баните с натривки'] 0\n",
      "[3 'Той е горчиво разочарован от'] 0\n",
      "[3 'Доказва, отвъд сенките на съмнението'] 0\n",
      "[3 'Това откритие позволява на Куне'] 0\n",
      "[3 'Този излишен товар прави тялото'] 0\n",
      "[3 'Баща ѝ е експерт-счетоводител'] 0\n",
      "[3 'Връща се в Торонто през'] 0\n",
      "[3 'След нея и други автори'] 0\n",
      "[3 'Член е на съюза на'] 0\n",
      "[3 'Върбан Генчев е роден през'] 0\n",
      "[3 'Учи в Дряновската гимназия където'] 0\n",
      "[3 'Политкомисар на отряда и член'] 0\n",
      "[3 'Сотир Ристев е роден в'] 0\n",
      "[3 'Присъединява се към ВМОРО и'] 0\n",
      "[3 'Четата напада черкезкото село Ново'] 0\n",
      "[3 'През следващите векове Византия използва'] 0\n",
      "[3 'По време на заселването на'] 0\n",
      "[4 'Група А Кина Куба Јапонија'] 0\n",
      "[4 'На подрачјето на денешниот округ'] 0\n",
      "[4 'Шенхаузен бил основан во раниот'] 0\n",
      "[4 'Така во следниот период започнало'] 0\n",
      "[4 'Во текот на Втората светска'] 0\n",
      "[4 'Германците, кои живееле на територијата'] 0\n",
      "[4 'Населените места Кивиоли'] 0\n",
      "[4 'По распадот на Советскиот Сојуз'] 0\n",
      "[4 'Надморската височина во селото е'] 0\n",
      "[4 'Селото има поледелко-шумарска функција Северно'] 0\n",
      "[4 'Во прилог се прикажани основните'] 0\n",
      "[4 'Ова бил единствениот начин за'] 0\n",
      "[4 'Кралот Нзинга станал првиот христијански'] 0\n",
      "[4 'Односите помеѓу двете кралства главно'] 0\n",
      "[4 'Пораснал во провинцискиот град Алињи'] 0\n",
      "[4 'Семејството кое го посвоило се'] 0\n",
      "[4 'Во еден случај кога му'] 0\n",
      "[4 'Во затвор ја напишал првата'] 0\n",
      "[4 'Бил контроверзен поради приказ на'] 0\n",
      "[4 'Напишал и неколку есеи со'] 0\n",
      "[4 'Борбата се одвива на боречки'] 0\n",
      "[4 'На атолот има патен систем'] 0\n",
      "[4 'Селото Каријатебике е центар на'] 0\n",
      "[4 'Но поради атмосферските влијанија и'] 0\n",
      "[4 'Во градот Кочани се наоѓаат'] 0\n",
      "[4 'Во градот Виница гравитираат четири'] 0\n",
      "[4 'Кон парохијата гравитираат селата Чешиново'] 0\n",
      "[4 'Кон парохијата гравитираат селата Бања'] 0\n",
      "[4 'Отишол на Света Гора и'] 0\n",
      "[4 'Архимандрит Соколски пристигнал во месноста'] 0\n",
      "[4 'Драган Цанков и Никола Сапунов'] 0\n",
      "[4 'Големиот одек во Европа како'] 0\n",
      "[4 'Амбасадорот Лобанов-Ростoвски им наредил на'] 0\n",
      "[4 'За време на своето заточение'] 0\n",
      "[4 'Список на археолошки локалитети во'] 0\n",
      "[4 'Постепено населението во Македонија го'] 0\n",
      "[4 'Името потекнува од јазикот нахуати'] 0\n",
      "[4 'Всушност Мексико бил нахуатски термин'] 0\n",
      "[4 'Теночтитлан се наоѓал во центарот'] 0\n",
      "[4 'Сепак постојат и многу други'] 0\n",
      "[4 'Во англискиот јазик буквата x'] 0\n",
      "[4 'Официјалното име на државата се'] 0\n",
      "[4 'Терминот Република Мексико бил употребуван'] 0\n",
      "[4 'Хебрејскиот се пишува од десно'] 0\n",
      "[4 'Како и останатите самогласни писма'] 0\n",
      "[4 'Сепак, поради различни причини, понекагаш'] 0\n",
      "[4 'Ова е оригиналниот начин на'] 0\n",
      "[4 'Овој начин користи согласки кои'] 0\n",
      "[4 'Бурназовски Тодоров Киро-Бурназ е роден'] 0\n",
      "[4 'Бил металски работник и член'] 0\n",
      "[4 'Уште од млади години се'] 0\n",
      "[4 'На робија учествувал во сите'] 0\n",
      "[4 'Со окупацијата на нашата земја'] 0\n",
      "[4 'Инаку, лексичкиот фонд е главно'] 0\n",
      "[4 'Семејството Петрушевски се гордееше што'] 0\n",
      "[4 'Израснат во Маџари'] 0\n",
      "[4 'Многу често извршуваше посебни и'] 0\n",
      "[4 'Денес во негова чест'] 0\n",
      "[4 'Петрушевски постхумно е одликуван со'] 0\n",
      "[4 'Во рамките на ова случување'] 0\n",
      "[4 'Градот Олантајтамбо се наоѓа на'] 0\n",
      "[4 'Западно од селото води сојузниот'] 0\n",
      "[4 'По се изгледа тие не'] 0\n",
      "[4 'Нивната баштина се наоѓала близу'] 0\n",
      "[4 'Уште по нагласен во поглед'] 0\n",
      "[4 'Зоологијата ја изучува физиологијата'] 0\n",
      "[4 'Нејзиниот брат, Хорациј, е целосна'] 0\n",
      "[4 'Јазикот ги има следниве наречја'] 0\n",
      "[4 'Во развиената населба масовно населување'] 0\n",
      "[4 'Денес Отава е значаен културен'] 0\n",
      "[4 'По долготрајните напори'] 0\n",
      "[4 'Студиите ги завршил со златен'] 0\n",
      "[4 'Во Санкт Петербург'] 0\n",
      "[4 'Особено е значајна неговата работа'] 0\n",
      "[4 'Завршил средно училиште во Бронкс'] 0\n",
      "[4 'Неговата работа за пресметување на'] 0\n",
      "[4 'Јово Камберски е роден во'] 0\n",
      "[4 'Со текот на нејзината историја'] 0\n",
      "[4 'Исто така, поседува еден од'] 0\n",
      "[4 'Првите докази за човечко присуство'] 0\n",
      "[4 'За изградба на црквата'] 0\n",
      "[4 'Сепак, некои тврдат дека основач'] 0\n",
      "[4 'Негова најголема победа била освојувањето'] 0\n",
      "[4 'Мангарева некогаш бил прекриен со'] 0\n",
      "[4 'Ова имало силно влијание врз'] 0\n",
      "[4 'Капетанот ги именувал островите во'] 0\n",
      "[4 'До црквата посветена на Света'] 0\n",
      "[4 'Манјак е поделена на две'] 0\n",
      "[4 'Тој е највисокиот активен вулкан'] 0\n",
      "[4 'Овој кратер се наоѓа на'] 0\n",
      "[4 'Овој конус е изграден на'] 0\n",
      "[4 'Радиоактивното датирање покажало возраст од'] 0\n",
      "[4 'Најновата активност вклучува лавински текови'] 0\n",
      "[4 'Била раководител на Институтот за'] 0\n",
      "[4 'Се запишала и дипломирала на'] 0\n",
      "[4 'На атолот Орона можат да'] 0\n",
      "[4 'Кога островот станал дел од'] 0\n",
      "[4 'Британските и американските тврдења за'] 0\n",
      "[4 'На крајот на Тур де'] 0\n",
      "[4 'Како професор се занимавал со'] 0\n",
      "[5 'Међутим, у номадским камповима и'] 0\n",
      "[5 'Овај пас познат је по'] 0\n",
      "[5 'Боље име за овог пса'] 0\n",
      "[5 'Краков је био под контролом'] 0\n",
      "[5 'Краков је касније окупиран од'] 0\n",
      "[5 'Завршну реч на конгресу дао'] 0\n",
      "[5 'Пећине у Републици Српској Завод'] 0\n",
      "[5 'Збивања у оквиру геоморфолошког процеса'] 0\n",
      "[5 'Особености превода на сродне'] 0\n",
      "[5 'мандарински широм северне Кине је'] 0\n",
      "[5 'Насупрот томе, планине и реке'] 0\n",
      "[5 'Присуство мандаринског у југозападној Кини'] 0\n",
      "[5 'Ова куга, звана црна смрт'] 0\n",
      "[5 'Као резултат, стандардни мандарински данас'] 0\n",
      "[5 'Везел се налази у савезној'] 0\n",
      "[5 'У самом граду је'] 0\n",
      "[5 'Отац му је био пореклом'] 0\n",
      "[5 'Матурирао је у Швајцарској'] 0\n",
      "[5 'Почео је да ради као'] 0\n",
      "[5 'После тога је прешао у'] 0\n",
      "[5 'Када се вратио постављен је'] 0\n",
      "[5 'Затим следе радови о народној'] 0\n",
      "[5 'Изабран је за дописног члана'] 0\n",
      "[5 'Рођен је од оца Милана'] 0\n",
      "[5 'Послије ниже гимназије уписује се'] 0\n",
      "[5 'Свети архијерејски синод му повјерава'] 0\n",
      "[5 'Лаура је израсла у прелепу'] 0\n",
      "[5 'Када је завршила са школом'] 0\n",
      "[5 'Оно што Мигела спречава да'] 0\n",
      "[5 'Регион на који се везује'] 0\n",
      "[5 'Док се ензим везује на'] 0\n",
      "[5 'Фаза која следи након спајања'] 0\n",
      "[5 'Колоректалног карцином, представља глобални проблем'] 0\n",
      "[5 'Основну школу завршио је у'] 0\n",
      "[5 'Нина је рођена у украјинској'] 0\n",
      "[5 'године се враћа у Москву'] 0\n",
      "[5 'Комуницирала је на пет језика'] 0\n",
      "[5 'После Еугенове смрти'] 0\n",
      "[5 'Међу Србима нарочито'] 0\n",
      "[5 'Ова два острва су била'] 0\n",
      "[5 'Аеродром је повезан са северне'] 0\n",
      "[5 'Копно које је настало амелиорацијом'] 0\n",
      "[5 'Према Гинесовој књизи рекорда'] 0\n",
      "[5 'После шест месеци се ситуација'] 0\n",
      "[5 'То је притисак који врши'] 0\n",
      "[5 'Он делује у свим правцима'] 0\n",
      "[5 'Кислег се налази у савезној'] 0\n",
      "[5 'У самом мјесту је'] 0\n",
      "[5 'Основну школу и гимназију је'] 0\n",
      "[5 'Још као ученик четвртог разреда'] 0\n",
      "[5 'За време студија на Београдском'] 0\n",
      "[5 'После дипломирања на Медицинском факултету'] 0\n",
      "[5 'После повратка у Краљевину Југославију'] 0\n",
      "[5 'Исте године примљен је у'] 0\n",
      "[5 'Радио је на обнови старих'] 0\n",
      "[5 'После капитулкације и окупације Краљевине'] 0\n",
      "[5 'Одмах по доласку у Ваљево'] 0\n",
      "[5 'Када коначно успе да добије'] 0\n",
      "[5 'Најћешће се састоји од кутне'] 0\n",
      "[5 'Алтоман је припадао властелинској породици'] 0\n",
      "[5 'Са њом је Алтоман имао'] 0\n",
      "[5 'Један се настанио на Црни'] 0\n",
      "[5 'Вулина данас има у Босни'] 0\n",
      "[5 'Истог су порекла и са'] 0\n",
      "[5 'Још додаје да је то'] 0\n",
      "[5 'Родитељи су јој погинули у'] 0\n",
      "[5 'У знак сећања на то'] 0\n",
      "[5 'Доњи Дупени се налазе у'] 0\n",
      "[5 'Заклео се да ће га'] 0\n",
      "[5 'Шнеберг се налази у савезној'] 0\n",
      "[5 'Једна од мобилисаних јединица била'] 0\n",
      "[5 'Први борбени задатак ове јединице'] 0\n",
      "[5 'Породица Бошковић је била антикомунистичка'] 0\n",
      "[5 'Након рата породица се преселила'] 0\n",
      "[5 'Даница Драшковић је супруга Вука'] 0\n",
      "[5 'Са доласком нациста на власт'] 0\n",
      "[5 'Без обзира на све примедбе'] 0\n",
      "[5 'Задовољни овим решењем'] 0\n",
      "[5 'Серијска производња је почела већ'] 0\n",
      "[5 'Све укупно, фирма ERMA је'] 0\n",
      "[5 'Међутим, да би убрзали и'] 0\n",
      "[5 'Први прототип је завршен децембра'] 0\n",
      "[5 'Одличне утакмице у грчком првенству'] 0\n",
      "[5 'Тамо је био капитен тима'] 0\n",
      "[5 'После четири године проведене у'] 0\n",
      "[5 'Био је члан репрезентације Грчке'] 0\n",
      "[5 'Чарлс је владао Луком све'] 0\n",
      "[5 'Лука је прикључена Великом војводству'] 0\n",
      "[5 'Од најближег града'] 0\n",
      "[5 'Насеље је положено у долини'] 0\n",
      "[5 'Долина је затворена планинама -'] 0\n",
      "[5 'Воде Најважнији водоток у општини'] 0\n",
      "[5 'Већ у рату са Турцима'] 0\n",
      "[5 'Специјалност му је била да'] 0\n",
      "[5 'Рођен је на Куби'] 0\n",
      "[5 'Након пораза Шпаније у рату'] 0\n",
      "[5 'Након победе социјалиста на парламентарним'] 0\n",
      "[5 'У међувремену Емилио Мола је'] 0\n",
      "[5 'Придружили су му се бројни'] 0\n",
      "[5 'Међутим побуњеници су наставили са'] 0\n",
      "0.16666666666666666\n"
     ]
    }
   ],
   "source": [
    "ans = 0\n",
    "for i in range(len(y)):\n",
    "    if y[i] == Y_pred[i]:\n",
    "        ans += 1\n",
    "    else:\n",
    "        print(X_val.values[i], Y_pred[i])\n",
    "print(ans / len(y))"
   ]
  },
  {
   "cell_type": "code",
   "execution_count": 33,
   "metadata": {},
   "outputs": [
    {
     "data": {
      "text/plain": [
       "array([0, 'Олег Шилов самостоятельно сделал мачту'], dtype=object)"
      ]
     },
     "execution_count": 33,
     "metadata": {},
     "output_type": "execute_result"
    }
   ],
   "source": [
    "X_val.values[0]"
   ]
  }
 ],
 "metadata": {
  "kernelspec": {
   "display_name": "Python 3",
   "language": "python",
   "name": "python3"
  },
  "language_info": {
   "codemirror_mode": {
    "name": "ipython",
    "version": 3
   },
   "file_extension": ".py",
   "mimetype": "text/x-python",
   "name": "python",
   "nbconvert_exporter": "python",
   "pygments_lexer": "ipython3",
   "version": "3.6.5"
  }
 },
 "nbformat": 4,
 "nbformat_minor": 2
}
