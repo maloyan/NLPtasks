{
 "cells": [
  {
   "cell_type": "code",
   "execution_count": 1,
   "metadata": {},
   "outputs": [],
   "source": [
    "import numpy as np\n",
    "import pandas as pd\n",
    "import os\n",
    "from sklearn.metrics import accuracy_score\n",
    "from sklearn.feature_extraction.text import TfidfVectorizer"
   ]
  },
  {
   "cell_type": "code",
   "execution_count": 2,
   "metadata": {},
   "outputs": [],
   "source": [
    "#0 - русский 1 - белорусский 2 - украинский 3 - болгарский 4 - македонский 5 - сербский\n",
    "languages_dict = {'ru' : 0, 'be' : 1, 'uk' : 2, 'bg' : 3, 'mk' : 4, 'sr' : 5}"
   ]
  },
  {
   "cell_type": "code",
   "execution_count": 4,
   "metadata": {},
   "outputs": [],
   "source": [
    "ru = pd.read_csv('./data/ru.csv')\n",
    "be = pd.read_csv('./data/be.csv')\n",
    "uk = pd.read_csv('./data/uk.csv')\n",
    "bg = pd.read_csv('./data/bg.csv')\n",
    "mk = pd.read_csv('./data/mk.csv')\n",
    "sr = pd.read_csv('./data/sr.csv')"
   ]
  },
  {
   "cell_type": "code",
   "execution_count": 5,
   "metadata": {},
   "outputs": [],
   "source": [
    "df = ru.head(12000)\n",
    "df = df.append(be.head(12000))\n",
    "df = df.append(uk.head(12000))\n",
    "df = df.append(bg.head(12000))\n",
    "df = df.append(mk.head(12000))\n",
    "df = df.append(sr.head(12000))"
   ]
  },
  {
   "cell_type": "code",
   "execution_count": 6,
   "metadata": {},
   "outputs": [],
   "source": [
    "df_test = pd.read_csv('./data/task2-dev.csv')"
   ]
  },
  {
   "cell_type": "code",
   "execution_count": 7,
   "metadata": {},
   "outputs": [],
   "source": [
    "Y_train = df['language']\n",
    "Y_test  = df_test['language']"
   ]
  },
  {
   "cell_type": "code",
   "execution_count": 8,
   "metadata": {},
   "outputs": [],
   "source": [
    "n = df.shape[0]\n",
    "vec = TfidfVectorizer(ngram_range=(1,4), analyzer='char')\n",
    "X_train = vec.fit_transform(df['text'])\n",
    "X_test  = vec.transform(df_test['text']) "
   ]
  },
  {
   "cell_type": "markdown",
   "metadata": {},
   "source": [
    "<h1>SVM</h1>"
   ]
  },
  {
   "cell_type": "code",
   "execution_count": 9,
   "metadata": {},
   "outputs": [],
   "source": [
    "from sklearn import svm"
   ]
  },
  {
   "cell_type": "code",
   "execution_count": 10,
   "metadata": {},
   "outputs": [
    {
     "name": "stdout",
     "output_type": "stream",
     "text": [
      "0.9733333333333334\n"
     ]
    }
   ],
   "source": [
    "clf1 = svm.LinearSVC()\n",
    "clf1.fit(X_train, Y_train)\n",
    "y_pred = clf1.predict(X_test)\n",
    "print(accuracy_score(Y_test, y_pred))"
   ]
  },
  {
   "cell_type": "code",
   "execution_count": 11,
   "metadata": {},
   "outputs": [],
   "source": [
    "path = os.path.join(\"./data/test_no_labels.txt\")\n",
    "text = []\n",
    "with open(path, 'r', encoding = \"utf-8\") as f:\n",
    "    for line in f:\n",
    "        text.append(line[:-1])"
   ]
  },
  {
   "cell_type": "code",
   "execution_count": 21,
   "metadata": {},
   "outputs": [],
   "source": [
    "X_submit = pd.DataFrame(columns=['language', 'text'])"
   ]
  },
  {
   "cell_type": "code",
   "execution_count": 24,
   "metadata": {},
   "outputs": [],
   "source": [
    "X_submit['text'] = text"
   ]
  },
  {
   "cell_type": "code",
   "execution_count": 14,
   "metadata": {},
   "outputs": [],
   "source": [
    "X_sumbit_trans = vec.transform(X_submit['text']) "
   ]
  },
  {
   "cell_type": "code",
   "execution_count": 16,
   "metadata": {},
   "outputs": [],
   "source": [
    "Y_submit = clf1.predict(X_sumbit_trans)"
   ]
  },
  {
   "cell_type": "code",
   "execution_count": 22,
   "metadata": {},
   "outputs": [],
   "source": [
    "X_submit['language'] = Y_submit"
   ]
  },
  {
   "cell_type": "code",
   "execution_count": 26,
   "metadata": {},
   "outputs": [],
   "source": [
    "X_submit.to_csv('./submit.csv', encoding='utf-8', index=False)"
   ]
  }
 ],
 "metadata": {
  "kernelspec": {
   "display_name": "Python 3",
   "language": "python",
   "name": "python3"
  },
  "language_info": {
   "codemirror_mode": {
    "name": "ipython",
    "version": 3
   },
   "file_extension": ".py",
   "mimetype": "text/x-python",
   "name": "python",
   "nbconvert_exporter": "python",
   "pygments_lexer": "ipython3",
   "version": "3.6.5"
  }
 },
 "nbformat": 4,
 "nbformat_minor": 2
}
