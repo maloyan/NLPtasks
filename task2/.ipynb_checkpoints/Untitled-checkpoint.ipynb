{
 "cells": [
  {
   "cell_type": "code",
   "execution_count": 1,
   "metadata": {},
   "outputs": [],
   "source": [
    "import numpy as np\n",
    "import pandas as pd\n",
    "import os\n",
    "import re\n",
    "from numpy import sort\n",
    "from matplotlib import pyplot\n",
    "from sklearn.metrics import accuracy_score\n",
    "from sklearn.feature_extraction.text import TfidfVectorizer\n",
    "%matplotlib inline"
   ]
  },
  {
   "cell_type": "markdown",
   "metadata": {},
   "source": [
    "</p>\n",
    "0 - русский\n",
    "1 - белорусский\n",
    "2 - украинский\n",
    "3 - болгарский\n",
    "4 - македонский\n",
    "5 - сербский\n",
    "<p>"
   ]
  },
  {
   "cell_type": "code",
   "execution_count": 2,
   "metadata": {},
   "outputs": [],
   "source": [
    "languages_dict = {'ru' : 0, 'be' : 1, 'uk' : 2, 'bg' : 3, 'mk' : 4, 'sr' : 5}\n",
    "\n",
    "def id2lang(id):\n",
    "    for i, key in languages_dict.items():\n",
    "        if key == id:\n",
    "            return i"
   ]
  },
  {
   "cell_type": "code",
   "execution_count": 3,
   "metadata": {},
   "outputs": [],
   "source": [
    "def create_dataset():\n",
    "    for lang_code in languages_dict:\n",
    "        X = pd.DataFrame(columns=['language', 'text'])\n",
    "        path = os.path.join(\"./wikipedia-crawler/\",  lang_code+\"_clean.txt\")\n",
    "        with open(path, 'r', encoding = \"utf-8\") as f:\n",
    "            for line in f:\n",
    "                n = random.randrange(3, 6)\n",
    "                a = list(ngrams(line.split(), n))\n",
    "                lst = a[random.randrange(0, len(a))]\n",
    "                if all((word.isalpha() and word.find('a') == -1) for word in lst):\n",
    "                    X = X.append({'language' : languages_dict[lang_code], 'text' : ' '.join(lst)}, ignore_index=True)\n",
    "        X.to_csv(lang_code + '.csv', encoding='utf-8', index=False)"
   ]
  },
  {
   "cell_type": "code",
   "execution_count": 49,
   "metadata": {},
   "outputs": [],
   "source": [
    "create_dataset()"
   ]
  },
  {
   "cell_type": "code",
   "execution_count": 4,
   "metadata": {},
   "outputs": [],
   "source": [
    "ru = pd.read_csv('./data/ru.csv')\n",
    "be = pd.read_csv('./data/be.csv')\n",
    "uk = pd.read_csv('./data/uk.csv')\n",
    "bg = pd.read_csv('./data/bg.csv')\n",
    "mk = pd.read_csv('./data/mk.csv')\n",
    "sr = pd.read_csv('./data/sr.csv')"
   ]
  },
  {
   "cell_type": "code",
   "execution_count": 5,
   "metadata": {},
   "outputs": [],
   "source": [
    "df = ru.head(12000)\n",
    "df = df.append(be.head(12000))\n",
    "df = df.append(uk.head(12000))\n",
    "df = df.append(bg.head(12000))\n",
    "df = df.append(mk.head(12000))\n",
    "df = df.append(sr.head(12000))"
   ]
  },
  {
   "cell_type": "code",
   "execution_count": 6,
   "metadata": {},
   "outputs": [],
   "source": [
    "df_test = pd.read_csv('./data/task2-dev.csv')"
   ]
  },
  {
   "cell_type": "code",
   "execution_count": 7,
   "metadata": {},
   "outputs": [],
   "source": [
    "Y_train = df['language']\n",
    "Y_test  = df_test['language']"
   ]
  },
  {
   "cell_type": "code",
   "execution_count": 8,
   "metadata": {},
   "outputs": [],
   "source": [
    "n = df.shape[0]\n",
    "vec = TfidfVectorizer(ngram_range=(1,4), analyzer='char')\n",
    "X_train = vec.fit_transform(df['text'])\n",
    "X_test  = vec.transform(df_test['text']) "
   ]
  },
  {
   "cell_type": "markdown",
   "metadata": {},
   "source": [
    "<h1>XGBoost</h1>"
   ]
  },
  {
   "cell_type": "code",
   "execution_count": null,
   "metadata": {},
   "outputs": [],
   "source": [
    "import xgboost as xgb"
   ]
  },
  {
   "cell_type": "code",
   "execution_count": 14,
   "metadata": {},
   "outputs": [
    {
     "name": "stderr",
     "output_type": "stream",
     "text": [
      "C:\\Users\\narek\\Anaconda3\\lib\\site-packages\\sklearn\\preprocessing\\label.py:151: DeprecationWarning: The truth value of an empty array is ambiguous. Returning False, but in future this will result in an error. Use `array.size > 0` to check that an array is not empty.\n",
      "  if diff:\n"
     ]
    },
    {
     "name": "stdout",
     "output_type": "stream",
     "text": [
      "0.91\n"
     ]
    }
   ],
   "source": [
    "# select features using threshold\n",
    "clf = xgb.XGBClassifier()\n",
    "clf.fit(X_train, Y_train)\n",
    "y_pred = clf.predict(X_test)\n",
    "print(accuracy_score(Y_test, y_pred))\n",
    "\n",
    "thresholds = sort(clf.feature_importances_)"
   ]
  },
  {
   "cell_type": "code",
   "execution_count": 15,
   "metadata": {},
   "outputs": [],
   "source": [
    "thresh = 0.0001"
   ]
  },
  {
   "cell_type": "code",
   "execution_count": 16,
   "metadata": {},
   "outputs": [
    {
     "name": "stdout",
     "output_type": "stream",
     "text": [
      "Thresh=0.000, n=492, Accuracy: 94.67%\n"
     ]
    },
    {
     "name": "stderr",
     "output_type": "stream",
     "text": [
      "C:\\Users\\narek\\Anaconda3\\lib\\site-packages\\sklearn\\preprocessing\\label.py:151: DeprecationWarning: The truth value of an empty array is ambiguous. Returning False, but in future this will result in an error. Use `array.size > 0` to check that an array is not empty.\n",
      "  if diff:\n"
     ]
    }
   ],
   "source": [
    "best_parameters = {\n",
    "    'learning_rate': 0.2,\n",
    "    'max_depth': 11,\n",
    "    'n_jobs': 4,\n",
    "    'num_classes': 6,\n",
    "    'gamma': 1\n",
    "}\n",
    "selection = SelectFromModel(clf, threshold=thresh, prefit=True)\n",
    "select_X_train = selection.transform(X_train)\n",
    "selection_model = xgb.XGBClassifier(**best_parameters)\n",
    "selection_model.fit(select_X_train, Y_train)\n",
    "select_X_test = selection.transform(X_test)\n",
    "\n",
    "y_pred = selection_model.predict(select_X_test)\n",
    "predictions = [round(value) for value in y_pred]\n",
    "accuracy = accuracy_score(Y_test, y_pred)\n",
    "print(\"Thresh=%.3f, n=%d, Accuracy: %.2f%%\" % (thresh, select_X_train.shape[1], accuracy*100.0))"
   ]
  },
  {
   "cell_type": "markdown",
   "metadata": {},
   "source": [
    "<h1>SVM</h1>"
   ]
  },
  {
   "cell_type": "code",
   "execution_count": 9,
   "metadata": {},
   "outputs": [],
   "source": [
    "from sklearn import svm"
   ]
  },
  {
   "cell_type": "code",
   "execution_count": 10,
   "metadata": {},
   "outputs": [
    {
     "name": "stdout",
     "output_type": "stream",
     "text": [
      "0.9733333333333334\n"
     ]
    }
   ],
   "source": [
    "clf1 = svm.LinearSVC()\n",
    "clf1.fit(X_train, Y_train)\n",
    "y_pred = clf1.predict(X_test)\n",
    "print(accuracy_score(Y_test, y_pred))"
   ]
  },
  {
   "cell_type": "code",
   "execution_count": 11,
   "metadata": {},
   "outputs": [],
   "source": [
    "path = os.path.join(\"./data/test_no_labels.txt\")\n",
    "text = []\n",
    "with open(path, 'r', encoding = \"utf-8\") as f:\n",
    "    for line in f:\n",
    "        text.append(line[:-1])"
   ]
  },
  {
   "cell_type": "code",
   "execution_count": 21,
   "metadata": {},
   "outputs": [],
   "source": [
    "X_submit = pd.DataFrame(columns=['language', 'text'])"
   ]
  },
  {
   "cell_type": "code",
   "execution_count": 24,
   "metadata": {},
   "outputs": [],
   "source": [
    "X_submit['text'] = text"
   ]
  },
  {
   "cell_type": "code",
   "execution_count": 14,
   "metadata": {},
   "outputs": [],
   "source": [
    "X_sumbit_trans = vec.transform(X_submit['text']) "
   ]
  },
  {
   "cell_type": "code",
   "execution_count": 16,
   "metadata": {},
   "outputs": [],
   "source": [
    "Y_submit = clf1.predict(X_sumbit_trans)"
   ]
  },
  {
   "cell_type": "code",
   "execution_count": 22,
   "metadata": {},
   "outputs": [],
   "source": [
    "X_submit['language'] = Y_submit"
   ]
  },
  {
   "cell_type": "code",
   "execution_count": 25,
   "metadata": {},
   "outputs": [
    {
     "data": {
      "text/html": [
       "<div>\n",
       "<style scoped>\n",
       "    .dataframe tbody tr th:only-of-type {\n",
       "        vertical-align: middle;\n",
       "    }\n",
       "\n",
       "    .dataframe tbody tr th {\n",
       "        vertical-align: top;\n",
       "    }\n",
       "\n",
       "    .dataframe thead th {\n",
       "        text-align: right;\n",
       "    }\n",
       "</style>\n",
       "<table border=\"1\" class=\"dataframe\">\n",
       "  <thead>\n",
       "    <tr style=\"text-align: right;\">\n",
       "      <th></th>\n",
       "      <th>language</th>\n",
       "      <th>text</th>\n",
       "    </tr>\n",
       "  </thead>\n",
       "  <tbody>\n",
       "    <tr>\n",
       "      <th>0</th>\n",
       "      <td>4</td>\n",
       "      <td>на тие услови со намалување</td>\n",
       "    </tr>\n",
       "    <tr>\n",
       "      <th>1</th>\n",
       "      <td>4</td>\n",
       "      <td>Ова се двете вообичаени варијанти</td>\n",
       "    </tr>\n",
       "    <tr>\n",
       "      <th>2</th>\n",
       "      <td>4</td>\n",
       "      <td>Науме, во режија на Благојче</td>\n",
       "    </tr>\n",
       "    <tr>\n",
       "      <th>3</th>\n",
       "      <td>1</td>\n",
       "      <td>“ Белавежы ” добра паказала</td>\n",
       "    </tr>\n",
       "    <tr>\n",
       "      <th>4</th>\n",
       "      <td>0</td>\n",
       "      <td>Впрочем, Homo supersapiens - это</td>\n",
       "    </tr>\n",
       "  </tbody>\n",
       "</table>\n",
       "</div>"
      ],
      "text/plain": [
       "   language                               text\n",
       "0         4        на тие услови со намалување\n",
       "1         4  Ова се двете вообичаени варијанти\n",
       "2         4       Науме, во режија на Благојче\n",
       "3         1        “ Белавежы ” добра паказала\n",
       "4         0   Впрочем, Homo supersapiens - это"
      ]
     },
     "execution_count": 25,
     "metadata": {},
     "output_type": "execute_result"
    }
   ],
   "source": [
    "X_submit.head()"
   ]
  },
  {
   "cell_type": "code",
   "execution_count": 26,
   "metadata": {},
   "outputs": [],
   "source": [
    "X_submit.to_csv('./submit.csv', encoding='utf-8', index=False)"
   ]
  },
  {
   "cell_type": "code",
   "execution_count": null,
   "metadata": {},
   "outputs": [],
   "source": []
  },
  {
   "cell_type": "code",
   "execution_count": 21,
   "metadata": {
    "scrolled": true
   },
   "outputs": [
    {
     "name": "stdout",
     "output_type": "stream",
     "text": [
      "[0 'На реке Шахе у запруды'] 5\n",
      "[0 'Кайл, Стэн и Картман находят'] 1\n",
      "[0 'Кайл, Картман и Баттерс крадут'] 3\n",
      "[0 'На вопрос Натана'] 4\n",
      "[0 'Натан бежит за Дедалом'] 4\n",
      "[0 'Дно чаши кратера заполнено через'] 3\n",
      "[1 'Атлас охотника и рыболова Витебская'] 0\n",
      "[1 'Вася Атанасова Уикипедия е своеобразно'] 3\n",
      "[1 '«На втората си годишнина Българската'] 3\n",
      "[2 '«Festival della Canzone Napoletana» '] 5\n",
      "[3 'Негов внук е Кузман Андреев'] 0\n",
      "[3 'Политкомисар на отряда и член'] 0\n",
      "[4 'Населените места Кивиоли'] 3\n",
      "[4 'Драган Цанков и Никола Сапунов'] 0\n",
      "[4 'Бурназовски Тодоров Киро-Бурназ е роден'] 3\n",
      "[4 'Денес Отава е значаен културен'] 3\n",
      "[5 'Особености превода на сродне'] 3\n"
     ]
    }
   ],
   "source": [
    "ans = 0\n",
    "for i in range(len(Y_test)):\n",
    "    if Y_test[i] == y_pred[i]:\n",
    "        ans += 1\n",
    "    else:\n",
    "        print(df_test.values[i], y_pred[i])"
   ]
  },
  {
   "cell_type": "code",
   "execution_count": 67,
   "metadata": {},
   "outputs": [
    {
     "name": "stdout",
     "output_type": "stream",
     "text": [
      "[0 'На реке Шахе у запруды'] 5\n",
      "[0 'Кайл, Стэн и Картман находят'] 1\n",
      "[0 'Кайл, Картман и Баттерс крадут'] 4\n",
      "[0 'На вопрос Натана'] 4\n",
      "[0 'Натан бежит за Дедалом'] 4\n",
      "[0 'Дно чаши кратера заполнено через'] 3\n",
      "[1 'Атлас охотника и рыболова Витебская'] 0\n",
      "[1 'Вася Атанасова Уикипедия е своеобразно'] 3\n",
      "[1 '«На втората си годишнина Българската'] 3\n",
      "[2 '«Festival della Canzone Napoletana» '] 5\n",
      "[3 'Негов внук е Кузман Андреев'] 0\n",
      "[3 'Политкомисар на отряда и член'] 0\n",
      "[4 'Населените места Кивиоли'] 3\n",
      "[4 'Драган Цанков и Никола Сапунов'] 0\n",
      "[4 'Бурназовски Тодоров Киро-Бурназ е роден'] 3\n",
      "[4 'Денес Отава е значаен културен'] 3\n",
      "[5 'Особености превода на сродне'] 3\n",
      "[5 'Ова куга, звана црна смрт'] 4\n"
     ]
    }
   ],
   "source": [
    "ans = 0\n",
    "for i in range(len(Y_test)):\n",
    "    if Y_test[i] == y_pred[i]:\n",
    "        ans += 1\n",
    "    else:\n",
    "        print(df_test.values[i], y_pred[i])"
   ]
  }
 ],
 "metadata": {
  "kernelspec": {
   "display_name": "Python 3",
   "language": "python",
   "name": "python3"
  },
  "language_info": {
   "codemirror_mode": {
    "name": "ipython",
    "version": 3
   },
   "file_extension": ".py",
   "mimetype": "text/x-python",
   "name": "python",
   "nbconvert_exporter": "python",
   "pygments_lexer": "ipython3",
   "version": "3.6.5"
  }
 },
 "nbformat": 4,
 "nbformat_minor": 2
}
