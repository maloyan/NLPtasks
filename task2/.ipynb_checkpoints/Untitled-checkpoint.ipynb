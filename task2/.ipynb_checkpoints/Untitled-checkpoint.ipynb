{
 "cells": [
  {
   "cell_type": "code",
   "execution_count": 1,
   "metadata": {},
   "outputs": [],
   "source": [
    "import numpy as np\n",
    "import pandas as pd\n",
    "import random\n",
    "import os\n",
    "import matplotlib\n",
    "import matplotlib.pyplot as plt\n",
    "from nltk.util import ngrams # function for making ngrams\n",
    "import re\n",
    "from numpy import sort\n",
    "from matplotlib import pyplot\n",
    "from sklearn.metrics import accuracy_score\n",
    "%matplotlib inline"
   ]
  },
  {
   "cell_type": "code",
   "execution_count": 2,
   "metadata": {},
   "outputs": [
    {
     "name": "stderr",
     "output_type": "stream",
     "text": [
      "C:\\Users\\narek\\Anaconda3\\lib\\site-packages\\h5py\\__init__.py:36: FutureWarning: Conversion of the second argument of issubdtype from `float` to `np.floating` is deprecated. In future, it will be treated as `np.float64 == np.dtype(float).type`.\n",
      "  from ._conv import register_converters as _register_converters\n",
      "Using TensorFlow backend.\n"
     ]
    }
   ],
   "source": [
    "from sklearn import preprocessing\n",
    "from sklearn.model_selection import train_test_split\n",
    "from sklearn.metrics import classification_report\n",
    "from sklearn.feature_selection import SelectFromModel\n",
    "import keras\n",
    "from keras.models import Sequential\n",
    "from keras.layers import Dense\n",
    "from keras.layers import Dropout\n",
    "import keras.optimizers"
   ]
  },
  {
   "cell_type": "markdown",
   "metadata": {},
   "source": [
    "</p>\n",
    "0 - русский\n",
    "1 - белорусский\n",
    "2 - украинский\n",
    "3 - болгарский\n",
    "4 - македонский\n",
    "5 - сербский\n",
    "<p>"
   ]
  },
  {
   "cell_type": "code",
   "execution_count": 3,
   "metadata": {},
   "outputs": [],
   "source": [
    "languages_dict = {'ru' : 0, 'be' : 1, 'uk' : 2, 'bg' : 3, 'mk' : 4, 'sr' : 5}\n",
    "text_sample_size = 20\n",
    "num_lang_samples = 25000\n",
    "\n",
    "def id2lang(id):\n",
    "    for i, key in languages_dict.items():\n",
    "        if key == id:\n",
    "            return i\n",
    "def size_mb(size):\n",
    "    size_mb =  '{:.2f}'.format(size/(1000*1000.0))\n",
    "    return size_mb + \" MB\""
   ]
  },
  {
   "cell_type": "code",
   "execution_count": 4,
   "metadata": {},
   "outputs": [],
   "source": [
    "def define_alphabet():\n",
    "    slav = 'абвгдежзклмнопрстуфхцчш'\n",
    "    rus  = 'ёийщъыьэюя'\n",
    "    bel  = 'ёійўыьэюя'\n",
    "    uk   = 'ґєиіїйщьюя'\n",
    "    bul  = 'ийщъьюя'\n",
    "    mac  = 'ѓѕијљњќџ'\n",
    "    srp  = 'ђијљњћџ'\n",
    "    \n",
    "    all_lang_chars = slav + rus + bel + uk + bul + mac + srp\n",
    "    small_chars = list(set(list(all_lang_chars)))\n",
    "    small_chars.sort() \n",
    "    big_chars = list(set(list(all_lang_chars.upper())))\n",
    "    big_chars.sort()\n",
    "    letters_string = ''\n",
    "    letters = small_chars + big_chars\n",
    "    for letter in letters:\n",
    "        letters_string += letter\n",
    "    return small_chars,big_chars,letters_string"
   ]
  },
  {
   "cell_type": "code",
   "execution_count": 5,
   "metadata": {},
   "outputs": [
    {
     "name": "stdout",
     "output_type": "stream",
     "text": [
      "(['а', 'б', 'в', 'г', 'д', 'е', 'ж', 'з', 'и', 'й', 'к', 'л', 'м', 'н', 'о', 'п', 'р', 'с', 'т', 'у', 'ф', 'х', 'ц', 'ч', 'ш', 'щ', 'ъ', 'ы', 'ь', 'э', 'ю', 'я', 'ё', 'ђ', 'ѓ', 'є', 'ѕ', 'і', 'ї', 'ј', 'љ', 'њ', 'ћ', 'ќ', 'ў', 'џ', 'ґ'], ['Ё', 'Ђ', 'Ѓ', 'Є', 'Ѕ', 'І', 'Ї', 'Ј', 'Љ', 'Њ', 'Ћ', 'Ќ', 'Ў', 'Џ', 'А', 'Б', 'В', 'Г', 'Д', 'Е', 'Ж', 'З', 'И', 'Й', 'К', 'Л', 'М', 'Н', 'О', 'П', 'Р', 'С', 'Т', 'У', 'Ф', 'Х', 'Ц', 'Ч', 'Ш', 'Щ', 'Ъ', 'Ы', 'Ь', 'Э', 'Ю', 'Я', 'Ґ'], 'абвгдежзийклмнопрстуфхцчшщъыьэюяёђѓєѕіїјљњћќўџґЁЂЃЄЅІЇЈЉЊЋЌЎЏАБВГДЕЖЗИЙКЛМНОПРСТУФХЦЧШЩЪЫЬЭЮЯҐ')\n"
     ]
    }
   ],
   "source": [
    "alphabet = define_alphabet()\n",
    "print(alphabet)"
   ]
  },
  {
   "cell_type": "code",
   "execution_count": 6,
   "metadata": {},
   "outputs": [],
   "source": [
    "def get_sample_text(file_content,start_index,sample_size):\n",
    "    end_index = start_index+sample_size\n",
    "    return file_content[start_index:end_index]\n",
    "\n",
    "def count_chars(text,alphabet):\n",
    "    alphabet_counts = []\n",
    "    for letter in alphabet:\n",
    "        count = text.count(letter)\n",
    "        alphabet_counts.append(count)\n",
    "    return alphabet_counts\n",
    "\n",
    "def get_input_row(content,start_index,sample_size):\n",
    "    sample_text = get_sample_text(content,start_index,sample_size)\n",
    "    for i in sample_text.split():\n",
    "        sample_text += \" \" + i[-3:] + \" \" + i[-2:] + \" \" + i[-1:] \n",
    "    counted_chars_all = count_chars(sample_text.lower(),alphabet[0])\n",
    "    counted_chars_big = count_chars(sample_text,alphabet[1])\n",
    "    all_parts = counted_chars_all + counted_chars_big\n",
    "    return all_parts\n",
    "\n",
    "def get_for_pred_row(content):\n",
    "    counted_chars_all = count_chars(sample_text.lower(),alphabet[0])\n",
    "    counted_chars_big = count_chars(sample_text,alphabet[1])\n",
    "    all_parts = counted_chars_all + counted_chars_big\n",
    "    return all_parts"
   ]
  },
  {
   "cell_type": "code",
   "execution_count": 7,
   "metadata": {},
   "outputs": [],
   "source": [
    "def create_dataset():\n",
    "    for lang_code in languages_dict:\n",
    "        X = pd.DataFrame(columns=['language', 'text'])\n",
    "        path = os.path.join(\"./wikipedia-crawler/\",  lang_code+\"_clean.txt\")\n",
    "        with open(path, 'r', encoding = \"utf-8\") as f:\n",
    "            for line in f:\n",
    "                n = random.randrange(3, 6)\n",
    "                a = list(ngrams(line.split(), n))\n",
    "                lst = a[random.randrange(0, len(a))]\n",
    "                if all(word.isalpha() for word in lst):\n",
    "                    X = X.append({'language' : languages_dict[lang_code], 'text' : ' '.join(lst)}, ignore_index=True)\n",
    "        X.to_csv(lang_code + '.csv', encoding='utf-8', index=False)"
   ]
  },
  {
   "cell_type": "code",
   "execution_count": 7,
   "metadata": {},
   "outputs": [],
   "source": [
    "ru = pd.read_csv('./data/ru.csv')\n",
    "be = pd.read_csv('./data/be.csv')\n",
    "uk = pd.read_csv('./data/uk.csv')\n",
    "bg = pd.read_csv('./data/bg.csv')\n",
    "mk = pd.read_csv('./data/mk.csv')\n",
    "sr = pd.read_csv('./data/sr.csv')"
   ]
  },
  {
   "cell_type": "code",
   "execution_count": 8,
   "metadata": {},
   "outputs": [],
   "source": [
    "df = ru.head(5000)\n",
    "df = df.append(be.head(5000))\n",
    "df = df.append(uk.head(5000))\n",
    "df = df.append(bg.head(5000))\n",
    "df = df.append(mk.head(5000))\n",
    "df = df.append(sr.head(5000))"
   ]
  },
  {
   "cell_type": "code",
   "execution_count": 9,
   "metadata": {},
   "outputs": [],
   "source": [
    "df_test = pd.read_csv('./data/task2-dev.csv')"
   ]
  },
  {
   "cell_type": "code",
   "execution_count": 10,
   "metadata": {},
   "outputs": [],
   "source": [
    "from sklearn.feature_extraction.text import TfidfVectorizer\n",
    "import xgboost as xgb"
   ]
  },
  {
   "cell_type": "code",
   "execution_count": 11,
   "metadata": {},
   "outputs": [],
   "source": [
    "Y_train = df['language']\n",
    "Y_test  = df_test['language']"
   ]
  },
  {
   "cell_type": "code",
   "execution_count": 12,
   "metadata": {},
   "outputs": [],
   "source": [
    "n = df.shape[0]\n",
    "vec = TfidfVectorizer(ngram_range=(1,3), analyzer='char',\n",
    "                      use_idf=1, smooth_idf=1, sublinear_tf=1)\n",
    "X_train = vec.fit_transform(df['text'])\n",
    "X_test  = vec.transform(df_test['text']) "
   ]
  },
  {
   "cell_type": "code",
   "execution_count": 13,
   "metadata": {},
   "outputs": [],
   "source": [
    "# select features using threshold\n",
    "clf = xgb.XGBClassifier()\n",
    "clf.fit(X_train, Y_train)\n",
    "\n",
    "thresholds = sort(clf.feature_importances_)"
   ]
  },
  {
   "cell_type": "code",
   "execution_count": 14,
   "metadata": {},
   "outputs": [],
   "source": [
    "thresh = thresholds[15100]"
   ]
  },
  {
   "cell_type": "code",
   "execution_count": 15,
   "metadata": {},
   "outputs": [
    {
     "data": {
      "text/plain": [
       "0.00029489826"
      ]
     },
     "execution_count": 15,
     "metadata": {},
     "output_type": "execute_result"
    }
   ],
   "source": [
    "thresh"
   ]
  },
  {
   "cell_type": "code",
   "execution_count": 23,
   "metadata": {},
   "outputs": [
    {
     "name": "stdout",
     "output_type": "stream",
     "text": [
      "Thresh=0.000, n=426, Accuracy: 93.67%\n"
     ]
    },
    {
     "name": "stderr",
     "output_type": "stream",
     "text": [
      "C:\\Users\\narek\\Anaconda3\\lib\\site-packages\\sklearn\\preprocessing\\label.py:151: DeprecationWarning: The truth value of an empty array is ambiguous. Returning False, but in future this will result in an error. Use `array.size > 0` to check that an array is not empty.\n",
      "  if diff:\n"
     ]
    }
   ],
   "source": [
    "selection = SelectFromModel(clf, threshold=thresh, prefit=True)\n",
    "best_parameters = {\n",
    "    'max_depth': 9\n",
    "}\n",
    "select_X_train = selection.transform(X_train)\n",
    "selection_model = xgb.XGBClassifier(**best_parameters)\n",
    "selection_model.fit(select_X_train, Y_train)\n",
    "select_X_test = selection.transform(X_test)\n",
    "\n",
    "y_pred = selection_model.predict(select_X_test)\n",
    "predictions = [round(value) for value in y_pred]\n",
    "accuracy = accuracy_score(Y_test, y_pred)\n",
    "print(\"Thresh=%.3f, n=%d, Accuracy: %.2f%%\" % (thresh, select_X_train.shape[1], accuracy*100.0))"
   ]
  },
  {
   "cell_type": "code",
   "execution_count": 265,
   "metadata": {},
   "outputs": [
    {
     "name": "stdout",
     "output_type": "stream",
     "text": [
      "0.9366666666666666\n"
     ]
    },
    {
     "name": "stderr",
     "output_type": "stream",
     "text": [
      "C:\\Users\\narek\\Anaconda3\\lib\\site-packages\\sklearn\\preprocessing\\label.py:151: DeprecationWarning: The truth value of an empty array is ambiguous. Returning False, but in future this will result in an error. Use `array.size > 0` to check that an array is not empty.\n",
      "  if diff:\n"
     ]
    }
   ],
   "source": [
    "\n",
    "selection_model = xgb.XGBClassifier(**best_parameters)\n",
    "selection_model.fit(select_X_train, Y_train)\n",
    "y_pred = selection_model.predict(select_X_test)\n",
    "print(accuracy_score(Y_test, y_pred))"
   ]
  },
  {
   "cell_type": "code",
   "execution_count": null,
   "metadata": {},
   "outputs": [],
   "source": []
  },
  {
   "cell_type": "code",
   "execution_count": 17,
   "metadata": {},
   "outputs": [
    {
     "name": "stderr",
     "output_type": "stream",
     "text": [
      "C:\\Users\\narek\\Anaconda3\\lib\\site-packages\\sklearn\\ensemble\\weight_boosting.py:29: DeprecationWarning: numpy.core.umath_tests is an internal NumPy module and should not be imported. It will be removed in a future NumPy release.\n",
      "  from numpy.core.umath_tests import inner1d\n"
     ]
    }
   ],
   "source": [
    "from sklearn.ensemble import RandomForestClassifier, AdaBoostClassifier, GradientBoostingClassifier, ExtraTreesClassifier, VotingClassifier\n",
    "from sklearn.discriminant_analysis import LinearDiscriminantAnalysis\n",
    "from sklearn.linear_model import LogisticRegression\n",
    "from sklearn.neighbors import KNeighborsClassifier\n",
    "from sklearn.tree import DecisionTreeClassifier\n",
    "from sklearn.neural_network import MLPClassifier\n",
    "from sklearn.svm import SVC\n",
    "from sklearn.model_selection import GridSearchCV, cross_val_score, StratifiedKFold, learning_curve"
   ]
  },
  {
   "cell_type": "code",
   "execution_count": 33,
   "metadata": {},
   "outputs": [],
   "source": [
    "kfold = StratifiedKFold(n_splits=10)"
   ]
  },
  {
   "cell_type": "code",
   "execution_count": null,
   "metadata": {},
   "outputs": [],
   "source": [
    "ex_params = {\n",
    "    'random_state': 91\n",
    "}"
   ]
  },
  {
   "cell_type": "code",
   "execution_count": 145,
   "metadata": {},
   "outputs": [],
   "source": [
    "rfc_params = {\n",
    "    'random_state': 93,\n",
    "    'n_estimators': 40\n",
    "}"
   ]
  },
  {
   "cell_type": "code",
   "execution_count": null,
   "metadata": {},
   "outputs": [],
   "source": []
  },
  {
   "cell_type": "code",
   "execution_count": 147,
   "metadata": {},
   "outputs": [
    {
     "name": "stdout",
     "output_type": "stream",
     "text": [
      "0.795\n"
     ]
    }
   ],
   "source": [
    "clf1 = AdaBoostClassifier()\n",
    "clf1.fit(select_X_train, Y_train)\n",
    "y_pred = clf1.predict(select_X_test)\n",
    "print(accuracy_score(Y_test, y_pred))"
   ]
  },
  {
   "cell_type": "code",
   "execution_count": null,
   "metadata": {},
   "outputs": [],
   "source": []
  },
  {
   "cell_type": "code",
   "execution_count": null,
   "metadata": {},
   "outputs": [],
   "source": []
  },
  {
   "cell_type": "code",
   "execution_count": null,
   "metadata": {},
   "outputs": [],
   "source": []
  },
  {
   "cell_type": "code",
   "execution_count": null,
   "metadata": {},
   "outputs": [],
   "source": []
  },
  {
   "cell_type": "code",
   "execution_count": 148,
   "metadata": {},
   "outputs": [],
   "source": [
    "clf  = selection_model\n",
    "#clf1 = AdaBoostClassifier()\n",
    "clf2 = RandomForestClassifier(**rfc_params)\n",
    "clf3 = ExtraTreesClassifier(**ex_params)"
   ]
  },
  {
   "cell_type": "code",
   "execution_count": 149,
   "metadata": {},
   "outputs": [],
   "source": [
    "votingC = VotingClassifier(estimators=[('rfc', clf2), ('extc', clf3),\n",
    "('xgb', clf)], voting='soft', n_jobs=4)\n",
    "\n",
    "votingC = votingC.fit(select_X_train, Y_train)"
   ]
  },
  {
   "cell_type": "code",
   "execution_count": 150,
   "metadata": {},
   "outputs": [
    {
     "name": "stderr",
     "output_type": "stream",
     "text": [
      "C:\\Users\\narek\\Anaconda3\\lib\\site-packages\\sklearn\\preprocessing\\label.py:151: DeprecationWarning: The truth value of an empty array is ambiguous. Returning False, but in future this will result in an error. Use `array.size > 0` to check that an array is not empty.\n",
      "  if diff:\n"
     ]
    }
   ],
   "source": [
    "y_pred = votingC.predict(select_X_test)"
   ]
  },
  {
   "cell_type": "code",
   "execution_count": 151,
   "metadata": {},
   "outputs": [
    {
     "name": "stdout",
     "output_type": "stream",
     "text": [
      "0.9333333333333333\n"
     ]
    }
   ],
   "source": [
    "print(accuracy_score(Y_test, y_pred))"
   ]
  },
  {
   "cell_type": "code",
   "execution_count": null,
   "metadata": {},
   "outputs": [],
   "source": []
  },
  {
   "cell_type": "code",
   "execution_count": 356,
   "metadata": {},
   "outputs": [
    {
     "name": "stdout",
     "output_type": "stream",
     "text": [
      "0.795\n"
     ]
    }
   ],
   "source": []
  },
  {
   "cell_type": "code",
   "execution_count": null,
   "metadata": {},
   "outputs": [],
   "source": []
  },
  {
   "cell_type": "code",
   "execution_count": null,
   "metadata": {},
   "outputs": [],
   "source": []
  },
  {
   "cell_type": "code",
   "execution_count": null,
   "metadata": {},
   "outputs": [],
   "source": []
  },
  {
   "cell_type": "code",
   "execution_count": null,
   "metadata": {},
   "outputs": [],
   "source": []
  },
  {
   "cell_type": "code",
   "execution_count": null,
   "metadata": {},
   "outputs": [],
   "source": []
  },
  {
   "cell_type": "code",
   "execution_count": null,
   "metadata": {},
   "outputs": [],
   "source": []
  },
  {
   "cell_type": "code",
   "execution_count": null,
   "metadata": {},
   "outputs": [],
   "source": []
  },
  {
   "cell_type": "code",
   "execution_count": null,
   "metadata": {},
   "outputs": [],
   "source": []
  },
  {
   "cell_type": "code",
   "execution_count": 152,
   "metadata": {},
   "outputs": [
    {
     "name": "stdout",
     "output_type": "stream",
     "text": [
      "[0 'Эта победа стала первой для'] 1\n",
      "[0 'Кайл, Картман и Баттерс крадут'] 3\n",
      "[0 'Несмотря на успехи'] 3\n",
      "[0 'На вопрос Натана'] 4\n",
      "[0 'Натан замечает, что «Рой» избегает'] 3\n",
      "[0 'Маликов заявляет, что кто-то активировал'] 3\n",
      "[0 'Натан бежит за Дедалом'] 4\n",
      "[0 'Дно чаши кратера заполнено через'] 3\n",
      "[1 'З-за таго, што імя Басараба'] 2\n",
      "[1 'Атлас охотника и рыболова Витебская'] 0\n",
      "[1 'Вася Атанасова Уикипедия е своеобразно'] 3\n",
      "[1 '«На втората си годишнина Българската'] 3\n",
      "[1 'На той момант ён ужо'] 0\n",
      "[2 'Славомир зазнав поразки й його'] 0\n",
      "[2 '«Festival della Canzone Napoletana» '] 1\n",
      "[3 'За капак той трябва да'] 1\n",
      "[3 'Статут на град получава през'] 4\n",
      "[3 'Консул Гай Семпроний Тудицан навлиза'] 0\n",
      "[3 'Той успешно действа срещу племената'] 0\n",
      "[3 'Баща му иконом Стамат Пачаджиев'] 0\n",
      "[3 'На петнадесет години влиза в'] 4\n",
      "[3 'Той е горчиво разочарован от'] 0\n",
      "[4 'Драган Цанков и Никола Сапунов'] 3\n",
      "[4 'За време на своето заточение'] 3\n",
      "[4 'Бурназовски Тодоров Киро-Бурназ е роден'] 0\n",
      "[4 'По се изгледа тие не'] 3\n",
      "[4 'Денес Отава е значаен културен'] 3\n",
      "[4 'До црквата посветена на Света'] 3\n",
      "[5 'Особености превода на сродне'] 4\n",
      "[5 'Насупрот томе, планине и реке'] 4\n",
      "[5 'Ова куга, звана црна смрт'] 3\n",
      "[5 'Затим следе радови о народној'] 4\n",
      "[5 'Оно што Мигела спречава да'] 4\n",
      "[5 'Фаза која следи након спајања'] 4\n",
      "[5 'После Еугенове смрти'] 4\n",
      "[5 'За време студија на Београдском'] 4\n",
      "[5 'Након рата породица се преселила'] 4\n",
      "[5 'Без обзира на све примедбе'] 3\n",
      "[5 'Од најближег града'] 4\n",
      "[5 'Након победе социјалиста на парламентарним'] 4\n",
      "0.9333333333333333\n"
     ]
    }
   ],
   "source": [
    "ans = 0\n",
    "for i in range(len(Y_test)):\n",
    "    if Y_test[i] == y_pred[i]:\n",
    "        ans += 1\n",
    "    else:\n",
    "        print(df_test.values[i], y_pred[i])\n",
    "print(ans / len(Y_test))"
   ]
  },
  {
   "cell_type": "code",
   "execution_count": 267,
   "metadata": {
    "scrolled": false
   },
   "outputs": [
    {
     "name": "stdout",
     "output_type": "stream",
     "text": [
      "[0 'Эта победа стала первой для'] 1\n",
      "[0 'Кайл, Картман и Баттерс крадут'] 3\n",
      "[0 'Несмотря на успехи'] 3\n",
      "[0 'На вопрос Натана'] 4\n",
      "[0 'Натан замечает, что «Рой» избегает'] 3\n",
      "[0 'Маликов заявляет, что кто-то активировал'] 3\n",
      "[0 'Натан бежит за Дедалом'] 3\n",
      "[0 'Дно чаши кратера заполнено через'] 4\n",
      "[1 'З-за таго, што імя Басараба'] 2\n",
      "[1 'Атлас охотника и рыболова Витебская'] 0\n",
      "[1 'Вася Атанасова Уикипедия е своеобразно'] 3\n",
      "[1 '«На втората си годишнина Българската'] 3\n",
      "[1 'На той момант ён ужо'] 0\n",
      "[2 '«Festival della Canzone Napoletana» '] 1\n",
      "[3 'Консул Гай Семпроний Тудицан навлиза'] 0\n",
      "[3 'Той успешно действа срещу племената'] 0\n",
      "[3 'Баща му иконом Стамат Пачаджиев'] 0\n",
      "[3 'По времето на Шестата офанзива'] 4\n",
      "[4 'Населените места Кивиоли'] 3\n",
      "[4 'Селото има поледелко-шумарска функција Северно'] 5\n",
      "[4 'Драган Цанков и Никола Сапунов'] 0\n",
      "[4 'Амбасадорот Лобанов-Ростoвски им наредил на'] 0\n",
      "[4 'Бурназовски Тодоров Киро-Бурназ е роден'] 0\n",
      "[4 'По се изгледа тие не'] 3\n",
      "[4 'Денес Отава е значаен културен'] 3\n",
      "[4 'Радиоактивното датирање покажало возраст од'] 5\n",
      "[5 'Особености превода на сродне'] 4\n",
      "[5 'Ова куга, звана црна смрт'] 1\n",
      "[5 'Оно што Мигела спречава да'] 4\n",
      "[5 'Фаза која следи након спајања'] 4\n",
      "[5 'После Еугенове смрти'] 4\n",
      "[5 'Према Гинесовој књизи рекорда'] 4\n",
      "[5 'За време студија на Београдском'] 4\n",
      "[5 'Након рата породица се преселила'] 4\n",
      "[5 'Без обзира на све примедбе'] 3\n",
      "[5 'После четири године проведене у'] 4\n",
      "[5 'Од најближег града'] 4\n",
      "[5 'Након победе социјалиста на парламентарним'] 4\n",
      "0.94\n"
     ]
    }
   ],
   "source": [
    "ans = 0\n",
    "for i in range(len(Y_test)):\n",
    "    if Y_test[i] == y_pred[i]:\n",
    "        ans += 1\n",
    "    else:\n",
    "        print(df_test.values[i], y_pred[i])"
   ]
  }
 ],
 "metadata": {
  "kernelspec": {
   "display_name": "Python 3",
   "language": "python",
   "name": "python3"
  },
  "language_info": {
   "codemirror_mode": {
    "name": "ipython",
    "version": 3
   },
   "file_extension": ".py",
   "mimetype": "text/x-python",
   "name": "python",
   "nbconvert_exporter": "python",
   "pygments_lexer": "ipython3",
   "version": "3.6.5"
  }
 },
 "nbformat": 4,
 "nbformat_minor": 2
}
